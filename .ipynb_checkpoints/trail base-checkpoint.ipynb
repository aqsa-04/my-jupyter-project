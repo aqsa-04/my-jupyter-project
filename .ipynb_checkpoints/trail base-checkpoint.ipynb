{
 "cells": [
  {
   "cell_type": "markdown",
   "id": "ba3df2e8",
   "metadata": {},
   "source": [
    "print hello world\n"
   ]
  }
 ],
 "metadata": {
  "language_info": {
   "name": "python"
  }
 },
 "nbformat": 4,
 "nbformat_minor": 5
}
