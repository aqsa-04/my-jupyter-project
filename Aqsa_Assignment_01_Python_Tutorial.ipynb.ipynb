{
 "cells": [
  {
   "cell_type": "markdown",
   "id": "651bb220-5e8f-4769-81e6-502753abdb5d",
   "metadata": {},
   "source": [
    "##  Python Variable Types Example\n",
    "\n",
    "In this example, we are creating three types of variables:\n",
    "- **Float Variable** → `counter = 100.00`\n",
    "- **Integer Variable** → `miles = 100`\n",
    "- **String Variable** → `name = \"Aqsa\"`\n",
    "We will print all the variable values using the `print()` function."
   ]
  },
  {
   "cell_type": "code",
   "execution_count": 3,
   "id": "4b312c4d-2eeb-41d9-83bb-44a8c1a1aa26",
   "metadata": {},
   "outputs": [
    {
     "name": "stdout",
     "output_type": "stream",
     "text": [
      "100.0\n",
      "100\n",
      "Aqsa\n"
     ]
    }
   ],
   "source": [
    "counter = 100.00 \n",
    "miles = 100   \n",
    "name = \"Aqsa\" \n",
    "\n",
    "print(counter)\n",
    "print(miles)\n",
    "print(name)\n"
   ]
  },
  {
   "cell_type": "markdown",
   "id": "820a3a1e-3642-43d6-b210-c3fb567db230",
   "metadata": {},
   "source": [
    "## Integer Example in Python\n",
    "\n",
    "In this example, we are assigning the value `2` to a variable.  \n",
    "This value is an **integer**, which means it is a whole number (without any decimal point).\n"
   ]
  },
  {
   "cell_type": "code",
   "execution_count": 4,
   "id": "5ce02aa1-7914-43c6-941e-d728cd3f3731",
   "metadata": {},
   "outputs": [
    {
     "data": {
      "text/plain": [
       "2"
      ]
     },
     "execution_count": 4,
     "metadata": {},
     "output_type": "execute_result"
    }
   ],
   "source": [
    "2"
   ]
  },
  {
   "cell_type": "markdown",
   "id": "155269ef-8fe5-4058-8a5c-2301c92bae11",
   "metadata": {},
   "source": [
    "## Simple Addition in Python\n",
    "\n",
    "In this example, we are adding two integers:  \n",
    "**2 + 3**\n",
    "The `+` operator is used for **addition** in Python."
   ]
  },
  {
   "cell_type": "code",
   "execution_count": 5,
   "id": "f03d38de-c78e-44e8-b355-9068d43f7952",
   "metadata": {},
   "outputs": [
    {
     "data": {
      "text/plain": [
       "5"
      ]
     },
     "execution_count": 5,
     "metadata": {},
     "output_type": "execute_result"
    }
   ],
   "source": [
    "2+3"
   ]
  },
  {
   "cell_type": "markdown",
   "id": "29758207-f26c-4cdb-85c1-579ac2e9bf31",
   "metadata": {},
   "source": [
    "## Adding Two Float Numbers in Python\n",
    "\n",
    "In this example, we are adding two **float** values:\n",
    "**2.3 + 5.5**\n",
    "\n",
    "- Both numbers have decimal points, so they are **float** types.\n",
    "- The `+` operator adds them."
   ]
  },
  {
   "cell_type": "code",
   "execution_count": 6,
   "id": "11555419-4b9e-4897-8015-2850f392951b",
   "metadata": {},
   "outputs": [
    {
     "data": {
      "text/plain": [
       "7.8"
      ]
     },
     "execution_count": 6,
     "metadata": {},
     "output_type": "execute_result"
    }
   ],
   "source": [
    "2.3+5.5"
   ]
  },
  {
   "cell_type": "markdown",
   "id": "63039016-5355-4739-a157-2770b6b2a511",
   "metadata": {},
   "source": [
    "## Exponentiation in Python\n",
    "\n",
    "In this example, we are using the exponentiation operator `**`:\n",
    "**2 \\*\\* 2**\n",
    "- `**` means \"raised to the power\".\n",
    "- So, `2**2` means **2 raised to the power of 2**, which is:\n",
    " 2 × 2 = 4\n"
   ]
  },
  {
   "cell_type": "code",
   "execution_count": 7,
   "id": "3d3f3fa8-bf28-4716-aca2-5e49ba18ad99",
   "metadata": {},
   "outputs": [
    {
     "data": {
      "text/plain": [
       "4"
      ]
     },
     "execution_count": 7,
     "metadata": {},
     "output_type": "execute_result"
    }
   ],
   "source": [
    "2**2"
   ]
  },
  {
   "cell_type": "markdown",
   "id": "65a50fef-4025-4b69-b0c5-50452fbe78e6",
   "metadata": {},
   "source": [
    "## Printing Multiple String Variables in Python\n",
    "\n",
    "In this example, we are:\n",
    "- Declaring two **string** variables:\n",
    "  - `name = 'Aqsa'`\n",
    "  - `university = \"Comsats\"`\n",
    "- Using the `print()` function to **display both values together**.\n",
    "The `print()` function automatically adds a space between the two values."
   ]
  },
  {
   "cell_type": "code",
   "execution_count": 8,
   "id": "71d2f036-4287-4bd0-b8d6-60e99256e029",
   "metadata": {},
   "outputs": [
    {
     "name": "stdout",
     "output_type": "stream",
     "text": [
      "Aqsa Comsats\n"
     ]
    }
   ],
   "source": [
    "name = 'Aqsa'\n",
    "university = \"Comsats\"\n",
    "\n",
    "print(name, university)"
   ]
  },
  {
   "cell_type": "markdown",
   "id": "6e792b3d-2d42-4c6d-9122-0ac8f38c057a",
   "metadata": {},
   "source": [
    "## String Indexing and Slicing in Python\n",
    "\n",
    "In this example, we are working with a string variable:\n",
    "`stringVariable = 'Hello World'`\n",
    "- **Indexing:**  \n",
    "  `stringVariable[0]` → Gives the first character of the string → **H**\n",
    "- **Slicing:**  \n",
    "  `stringVariable[1:5]` → Gives characters from index 1 to 4 (not including 5), which is → **ello**\n",
    "### Note:\n",
    "- Indexing starts from **0** in Python.\n",
    "- In slicing, the **start index is included** but the **end index is excluded**.\n"
   ]
  },
  {
   "cell_type": "code",
   "execution_count": 10,
   "id": "fa44e510-6b1b-4662-9c86-e8fb5f64a3dd",
   "metadata": {},
   "outputs": [
    {
     "name": "stdout",
     "output_type": "stream",
     "text": [
      "stringVariable[0]: H\n",
      "stringVariable[1:5]: ello\n"
     ]
    }
   ],
   "source": [
    "stringVariable = 'Hello World'\n",
    "print(\"stringVariable[0]:\", stringVariable[0])\n",
    "print(\"stringVariable[1:5]:\", stringVariable[1:5])"
   ]
  },
  {
   "cell_type": "markdown",
   "id": "318b46d9-eeb1-452a-ad73-dfe763c42a53",
   "metadata": {},
   "source": [
    "## Updating a String Using Slicing and Concatenation\n",
    "\n",
    "In this example, we are modifying the string:\n",
    "`stringVariable = \"Hello World\"`\n",
    "\n",
    "- `stringVariable[:6]` → This gives the first 6 characters of the original string → **\"Hello \"**\n",
    "- Then we add (concatenate) `\"Python\"` to it\n",
    "- Final string becomes → **\"Hello Python\"**\n",
    "  \n",
    "We will display this updated string using the `print()` function."
   ]
  },
  {
   "cell_type": "code",
   "execution_count": 11,
   "id": "e510f117-79bd-475f-9aba-a75aa5583200",
   "metadata": {},
   "outputs": [
    {
     "name": "stdout",
     "output_type": "stream",
     "text": [
      "Updated string:  Hello Python\n"
     ]
    }
   ],
   "source": [
    "stringVariable = \"Hello World\"\n",
    "stringVariable = stringVariable[:6] + \"Python\"\n",
    "print(\"Updated string: \", stringVariable)"
   ]
  },
  {
   "cell_type": "markdown",
   "id": "4c46fe51-6a9d-40b6-afaa-20599d23a8b1",
   "metadata": {},
   "source": [
    "## Deleting a Variable Using `del` in Python\n",
    "\n",
    "In this example, we are working with a string:\n",
    "`stringVariable = \"Hello World\"`\n",
    "- First, we assign a string to the variable:  \n",
    "  `stringVariable = \"Hello World\"`\n",
    "- Then, we print the variable:  \n",
    "  `print(stringVariable)` → This prints **Hello World**\n",
    "- Next, we delete the variable using the `del` keyword:  \n",
    "  `del stringVariable`\n",
    "- Finally, we try to print it again using:  \n",
    "  `print(stringVariable)`\n",
    "### Error Explanation:\n",
    "After using `del stringVariable`, the variable is **removed from memory**.\n",
    "So when we try to print it again, Python throws the following error:"
   ]
  },
  {
   "cell_type": "code",
   "execution_count": 12,
   "id": "4191f6e5-0ef1-4243-a954-8eee5c7c0dd5",
   "metadata": {},
   "outputs": [
    {
     "name": "stdout",
     "output_type": "stream",
     "text": [
      "Hello World\n"
     ]
    },
    {
     "ename": "NameError",
     "evalue": "name 'stringVariable' is not defined",
     "output_type": "error",
     "traceback": [
      "\u001b[1;31m---------------------------------------------------------------------------\u001b[0m",
      "\u001b[1;31mNameError\u001b[0m                                 Traceback (most recent call last)",
      "Cell \u001b[1;32mIn[12], line 4\u001b[0m\n\u001b[0;32m      2\u001b[0m \u001b[38;5;28mprint\u001b[39m (stringVariable)\n\u001b[0;32m      3\u001b[0m \u001b[38;5;28;01mdel\u001b[39;00m stringVariable\n\u001b[1;32m----> 4\u001b[0m \u001b[38;5;28mprint\u001b[39m (stringVariable)\n",
      "\u001b[1;31mNameError\u001b[0m: name 'stringVariable' is not defined"
     ]
    }
   ],
   "source": [
    "stringVariable = \"Hello World\"\n",
    "print (stringVariable)\n",
    "del stringVariable\n",
    "print (stringVariable)"
   ]
  },
  {
   "cell_type": "markdown",
   "id": "3d20c2f2-606d-45f3-8765-0cf7afa82141",
   "metadata": {},
   "source": [
    "## String Concatenation in Python\n",
    "\n",
    "In this example, we are joining two strings using the `+` operator.\n",
    "- We assign a string to a variable:  \n",
    "  `variable = \"Hello\"`\n",
    "- Then we concatenate `\"Python\"` with the variable:  \n",
    "  `variable + \"Aqsa\"`\n",
    "- The result will be:  \n",
    "  `\"HelloAqsa\"` (no space between them)\n",
    "If we want a space between the words, we can write:  \n",
    "`variable + \" Aqsa\"` → Result: `\"Hello Aqsa\"`\n"
   ]
  },
  {
   "cell_type": "code",
   "execution_count": 15,
   "id": "82ac8fbf-e88f-4dc4-8c1d-cafb7d2aa3f3",
   "metadata": {},
   "outputs": [
    {
     "name": "stdout",
     "output_type": "stream",
     "text": [
      "HelloAqsa\n"
     ]
    }
   ],
   "source": [
    "variable = \"Hello\"\n",
    "print(variable+\"Aqsa\")"
   ]
  },
  {
   "cell_type": "markdown",
   "id": "5fd074e8-ac56-4692-89bd-5b533ce15d3e",
   "metadata": {},
   "source": [
    "## String Repetition in Python Using `*` Operator\n",
    "\n",
    "In this example, we are repeating a string multiple times using the `*` operator.\n",
    "- We assign a string to a variable:  \n",
    "  `variable = \"Hello\"`\n",
    "- Then we repeat that string **3 times** using:  \n",
    "  `variable * 3`\n",
    "- The output will be:  \n",
    "  `\"AqsaAqsaAqsa\"`\n",
    "### Note:\n",
    "- The `*` operator repeats the string as many times as you specify.\n",
    "- If you want space between repetitions, use:  \n",
    "  `(variable + \" \") * 3` → Output: `\"Aqsa Aqsa Aqsa \"`"
   ]
  },
  {
   "cell_type": "code",
   "execution_count": 16,
   "id": "034f9847-9ba2-4785-8fe1-c6d850a36ec1",
   "metadata": {},
   "outputs": [
    {
     "name": "stdout",
     "output_type": "stream",
     "text": [
      "AqsaAqsaAqsa\n"
     ]
    }
   ],
   "source": [
    "variable = \"Aqsa\"\n",
    "print(variable*3)"
   ]
  },
  {
   "cell_type": "markdown",
   "id": "af483158-4107-454e-9f30-c9127ce9af11",
   "metadata": {},
   "source": [
    "## String Indexing Example in Python\n",
    "\n",
    "In this example, we are accessing a single character from a string using **indexing**.\n",
    "- Assigning a string to a variable:  \n",
    "  `variable = \"Hello\"`\n",
    "- Accessing the character at index `1`:  \n",
    "  `print(variable[1])`\n",
    "###  How Indexing Works:\n",
    "- Indexing in Python starts from **0**\n",
    "- `\"Hello\"` has the following indexes:\n",
    "\n",
    "  | H | e | l | l | o |\n",
    "  |---|---|---|---|---|\n",
    "  | 0 | 1 | 2 | 3 | 4 |\n",
    "\n",
    "So, `variable[1]` returns → **e**\n"
   ]
  },
  {
   "cell_type": "code",
   "execution_count": 17,
   "id": "b8a92002-9bd2-4892-b1d0-8fe1e5ff524a",
   "metadata": {},
   "outputs": [
    {
     "name": "stdout",
     "output_type": "stream",
     "text": [
      "e\n"
     ]
    }
   ],
   "source": [
    "variable = \"Hello\"\n",
    "print(variable[1])"
   ]
  },
  {
   "cell_type": "markdown",
   "id": "ba0ab641-e91c-49e7-9c39-234dd5f14814",
   "metadata": {},
   "source": [
    "## String Slicing Example in Python\n",
    "\n",
    "In this example, we are extracting a **portion** of a string using slicing.\n",
    "- Assigning a string to a variable:  \n",
    "  `variable = \"Hello\"`\n",
    "- Using slicing:  \n",
    "  `variable[1:3]` → This will extract characters from **index 1 to 2** (3 is excluded)\n",
    "So, `variable[1:3]` returns → **\"el\"**"
   ]
  },
  {
   "cell_type": "code",
   "execution_count": 18,
   "id": "729fe840-4f3e-4492-8218-796fa52e0e6c",
   "metadata": {},
   "outputs": [
    {
     "name": "stdout",
     "output_type": "stream",
     "text": [
      "el\n"
     ]
    }
   ],
   "source": [
    "variable = \"Hello\"\n",
    "print(variable[1:3])"
   ]
  },
  {
   "cell_type": "markdown",
   "id": "fa349650-51f4-4753-b721-a60a0417a505",
   "metadata": {},
   "source": [
    "## Checking Membership in a String using `in` Operator\n",
    "\n",
    "In this example, we are using the **`in` operator** to check if a character exists inside a string.\n",
    "- Assigning a string to a variable:  \n",
    "  `variable = \"Hello\"`\n",
    "- Using `'H' in variable` to check if **'H'** is present in `\"Hello\"`\n",
    "- This returns a **Boolean value** → `True` or `False`\n",
    "\n",
    "### How it works:\n",
    "- `'H' in \"Hello\"` → ✅ Yes, 'H' **is present**, so it returns → `True`\n",
    "- If we wrote `'z' in \"Hello\"` → ❌ 'z' is **not present**, so it returns → `False`"
   ]
  },
  {
   "cell_type": "code",
   "execution_count": 19,
   "id": "3c98ef19-9662-49a3-8424-ad5dff5f0193",
   "metadata": {},
   "outputs": [
    {
     "name": "stdout",
     "output_type": "stream",
     "text": [
      "True\n"
     ]
    }
   ],
   "source": [
    "variable = \"Hello\"\n",
    "print('H' in variable)"
   ]
  },
  {
   "cell_type": "markdown",
   "id": "95d3a4f5-4890-4c9a-8e52-72948b6f9374",
   "metadata": {},
   "source": [
    "## Checking Absence in a String using `not in` Operator\n",
    "\n",
    "In this example, we are using the **`not in` operator** to check if a character **is not present** in a string.\n",
    "- Assigning a string to a variable:  \n",
    "  `variable = \"Hello\"`\n",
    "- Using `'G' not in variable` → to check if **'G' is NOT in \"Hello\"**\n",
    "### How it works:\n",
    "- `'G' not in \"Hello\"` → ✅ Yes, 'G' is **not present**, so it returns → `True`\n",
    "- `'H' not in \"Hello\"` → ❌ 'H' **is present**, so it returns → `False`"
   ]
  },
  {
   "cell_type": "code",
   "execution_count": 21,
   "id": "30908c50-2f0f-40a3-95dc-2752212ee786",
   "metadata": {},
   "outputs": [
    {
     "name": "stdout",
     "output_type": "stream",
     "text": [
      "False\n"
     ]
    }
   ],
   "source": [
    "variable = \"Hello\"\n",
    "print('H' not in variable)"
   ]
  },
  {
   "cell_type": "markdown",
   "id": "1c52188c-e3c8-499c-93c0-c8780f1a5386",
   "metadata": {},
   "source": [
    "## String Formatting using `%` Operator in Python\n",
    "\n",
    "In this example, we are formatting a string using the old-style `%` operator.\n",
    "- Using the following format string:  \n",
    "  `\"My name is %s and age is %d kg!\"`\n",
    "- `%s` → Placeholder for a **string**  \n",
    "- `%d` → Placeholder for an **integer**\n",
    "- The values `(\"Aqsa\", 20)` are inserted into the placeholders in order.\n",
    "### Note:\n",
    "- %s is replaced with \"Aqsa\"\n",
    "- %d is replaced with 20"
   ]
  },
  {
   "cell_type": "code",
   "execution_count": 23,
   "id": "a4403d95-bb5f-419a-a370-370f48ad6560",
   "metadata": {},
   "outputs": [
    {
     "name": "stdout",
     "output_type": "stream",
     "text": [
      "My name is Aqsa and age is 20 kg!\n"
     ]
    }
   ],
   "source": [
    " print (\"My name is %s and age is %d kg!\" % (\"Aqsa\",20))"
   ]
  },
  {
   "cell_type": "markdown",
   "id": "0ecf13f1-b940-4cac-931c-8b8551fdfcd5",
   "metadata": {},
   "source": [
    "## Creating and Printing a List in Python\n",
    "\n",
    "In this example, we are creating a list named `list1` containing two elements.\n",
    "- Creating a list with two values:\n",
    "  `list1 = ['Mehvish', '1880']`\n",
    "- The list contains:\n",
    "  - `'Mehvish'` → a string\n",
    "  - `'1880'` → another string\n",
    "- We use `print(list1)` to display the entire list.\n",
    "\n",
    "### Note:\n",
    "- Lists in Python are created using square brackets `[ ]`\n",
    "- They can store multiple values of any type (string, integer, float, etc.)\n",
    "- Indexing starts from **0**, so:\n",
    "  - `list1[0]` → `'Mehvish'`\n",
    "  - `list1[1]` → `'1880'`"
   ]
  },
  {
   "cell_type": "code",
   "execution_count": 24,
   "id": "6ec718ca-14af-4ff1-ba4a-3ad7c102d6aa",
   "metadata": {},
   "outputs": [
    {
     "name": "stdout",
     "output_type": "stream",
     "text": [
      "['Mehvish', '1880']\n"
     ]
    }
   ],
   "source": [
    " list1 = ['Mehvish','1880']\n",
    "print(list1)"
   ]
  },
  {
   "cell_type": "markdown",
   "id": "ad40b454-fff7-4458-ac3f-7b0e42ff5413",
   "metadata": {},
   "source": [
    "## List Indexing and Slicing in Python\n",
    "\n",
    "In this example, we are working with two lists:\n",
    "`list1 = ['physics', 'chemistry', 1997, 2000]`  \n",
    "`list2 = [1, 2, 3, 4, 5, 6, 7]`\n",
    "- Accessing the **first element** of `list1` using `list1[0]`\n",
    "- Accessing a **slice of list2** from index 1 to 4 using `list2[1:5]`\n",
    "\n",
    "### Note:\n",
    "- Indexing in Python starts from **0**\n",
    "- `list1[0]` gives the **first item** → `'physics'`\n",
    "- `list2[1:5]` returns elements from **index 1 to 4** (5 is excluded)\n",
    "- Slicing syntax is: `list[start:stop]`"
   ]
  },
  {
   "cell_type": "code",
   "execution_count": 25,
   "id": "e0cf59ef-ac7b-46b1-8bcf-d8f3e5ab72c7",
   "metadata": {},
   "outputs": [
    {
     "name": "stdout",
     "output_type": "stream",
     "text": [
      "list1[0]:  physics\n",
      "list2[1:5]:  [2, 3, 4, 5]\n"
     ]
    }
   ],
   "source": [
    "list1 = ['physics', 'chemistry', 1997, 2000];\n",
    "list2 = [1, 2, 3, 4, 5, 6, 7 ];\n",
    "print (\"list1[0]: \", list1[0])\n",
    "print (\"list2[1:5]: \", list2[1:5])"
   ]
  },
  {
   "cell_type": "markdown",
   "id": "c5ee8d79-cac1-49de-a4a9-b265249a6edd",
   "metadata": {},
   "source": [
    "## Updating and Appending in a Python List\n",
    "\n",
    "In this example, we are performing two operations on a list:\n",
    "`list1 = ['physics', 'chemistry', 1997, 2000]`\n",
    "- **Updating an element**:  \n",
    "  `list1[1] = \"computer science\"`  \n",
    "  → This changes the second element `'chemistry'` to `'computer science'`\n",
    "- **Appending an element**:  \n",
    "  `list1.append('Computer Science')`  \n",
    "  → This adds `'Computer Science'` to the **end** of the list\n",
    "  \n",
    "### Note:\n",
    "- `list[index] = new_value` → is used to **update** an element at a specific position.\n",
    "- `.append(value)` → is used to **add a new item** at the **end** of the list.\n",
    "- Lists in Python are **mutable**, which means we can change their content."
   ]
  },
  {
   "cell_type": "code",
   "execution_count": 26,
   "id": "009b9bf4-50d9-4c06-989b-f6934ec3c682",
   "metadata": {},
   "outputs": [
    {
     "name": "stdout",
     "output_type": "stream",
     "text": [
      "['physics', 'computer science', 1997, 2000]\n",
      "['physics', 'computer science', 1997, 2000, 'Computer Science']\n"
     ]
    }
   ],
   "source": [
    "list1 = ['physics', 'chemistry', 1997, 2000];\n",
    "list1[1] = \"computer science\"\n",
    "print(list1)\n",
    "list1.append('Computer Science')\n",
    "print(list1)"
   ]
  },
  {
   "cell_type": "markdown",
   "id": "3536f73d-76f5-49f3-9d23-7b0f7cf9fbbc",
   "metadata": {},
   "source": [
    "## Deleting an Element from a List using `del`\n",
    "\n",
    "In this example, we are deleting a value from a list at a specific index using the `del` keyword.\n",
    "`list1 = ['physics', 'chemistry', 1997, 2000]`\n",
    "- First, we print the original list using `print(list1)`\n",
    "- Then, we delete the element at index `2` using:  \n",
    "  `del list1[2]`\n",
    "- Finally, we print the list again to see the updated version\n",
    "  \n",
    "### Note:\n",
    "- The `del` keyword is used to **delete an element at a specific index** from a list.\n",
    "- Indexing starts at `0`, so:\n",
    "  - `list1[2]` refers to `1997`\n",
    "- After deletion, the list size decreases by 1."
   ]
  },
  {
   "cell_type": "code",
   "execution_count": 27,
   "id": "66d87851-71f5-4b72-a032-fc654f172459",
   "metadata": {},
   "outputs": [
    {
     "name": "stdout",
     "output_type": "stream",
     "text": [
      "['physics', 'chemistry', 1997, 2000]\n",
      "After deleting value at index 2 : \n",
      "['physics', 'chemistry', 2000]\n"
     ]
    }
   ],
   "source": [
    " list1 = ['physics', 'chemistry', 1997, 2000];\n",
    "print (list1)\n",
    "del list1[2];\n",
    "print (\"After deleting value at index 2 : \")\n",
    "print (list1)"
   ]
  },
  {
   "cell_type": "markdown",
   "id": "560325a5-ac4a-4414-b766-84d3ac1c87ef",
   "metadata": {},
   "source": [
    "## Removing a Specific Element from a List using `remove()`\n",
    "\n",
    "In this example, we are deleting an element **by value** from a list using the `remove()` method.\n",
    "`list1 = ['physics', 'chemistry', 1997, 2000]`\n",
    "- First, printing the original list using `print(list1)`\n",
    "- Using `list1.remove('chemistry')` to remove the **value** `'chemistry'` from the list\n",
    "- Then printing the updated list\n",
    "\n",
    "### Note:\n",
    "\n",
    "- `remove()` deletes the **first matching value** in the list (not by index).\n",
    "- If the value does not exist, Python will raise a `ValueError`.\n",
    "- Unlike `del list1[2]`, which deletes by **index**, `remove()` deletes by **value**."
   ]
  },
  {
   "cell_type": "code",
   "execution_count": 28,
   "id": "7649abd4-9812-4bdd-883b-68826e02db9a",
   "metadata": {},
   "outputs": [
    {
     "name": "stdout",
     "output_type": "stream",
     "text": [
      "['physics', 'chemistry', 1997, 2000]\n",
      "After deleting value at index 2 : \n",
      "['physics', 1997, 2000]\n"
     ]
    }
   ],
   "source": [
    "list1 = ['physics', 'chemistry', 1997, 2000];\n",
    "print (list1)\n",
    "list1.remove('chemistry')\n",
    "print (\"After deleting value at index 2 : \")\n",
    "print (list1)"
   ]
  },
  {
   "cell_type": "markdown",
   "id": "9a6d92e1-89f9-4fbc-a12b-b330f8f0191e",
   "metadata": {},
   "source": [
    "## Accessing Values from a Dictionary in Python\n",
    "\n",
    "In this example, we are working with a dictionary:\n",
    "`dict = {'Name': \"Mehvish\", 'Depart': \"BCS\", 'Batch': 2014}`\n",
    "- Creating a dictionary with 3 key-value pairs:\n",
    "  - `'Name'` → `\"Aqsa\"`\n",
    "  - `'Depart'` → `\"BS IET\"`\n",
    "  - `'Batch'` → `2021`\n",
    "- Accessing the value of the `'Name'` key using:  \n",
    "  `dict['Name']`\n",
    "  \n",
    "### Note:\n",
    "\n",
    "- Dictionaries in Python store **data in key-value pairs** inside curly braces `{ }`\n",
    "- You can access values using the **key name** in square brackets:  \n",
    "  `dictionary_name['key']`\n",
    "- If the key does not exist, Python throws a `KeyError`\n",
    "\n",
    "📌 Tip: Avoid using the word `dict` as a variable name — it's a built-in Python type.  \n",
    "Better to use a name like `student` or `info`."
   ]
  },
  {
   "cell_type": "code",
   "execution_count": 29,
   "id": "bae74fbe-62cf-4093-b0bc-131e68aac982",
   "metadata": {},
   "outputs": [
    {
     "name": "stdout",
     "output_type": "stream",
     "text": [
      "Aqsa\n"
     ]
    }
   ],
   "source": [
    "dict = {'Name':\"Aqsa\", 'Depart': \"BS IET\", 'Batch': 2021}\n",
    "print (dict['Name'])"
   ]
  },
  {
   "cell_type": "markdown",
   "id": "4b92ca8b-6919-4ac2-a9c6-9a5428a5c505",
   "metadata": {},
   "source": [
    "## Updating and Adding Elements in a Python Dictionary\n",
    "\n",
    "We are working with a dictionary:\n",
    "`dict = {'Name': \"Aqsa\", 'Depart': \"BCS\", 'Batch': 2014\n",
    "- First, we print the original dictionary using `print(dict)`\n",
    "- Then, we update the value of the `'Batch'` key:  \n",
    "  `dict['Batch'] = \"Fall 2021\"` → Replaces `2014` with `\"Fall 2021\"`\n",
    "- Next, we add a new key-value pair to the dictionary:  \n",
    "  `dict['University'] = \"COMSATS\"`\n",
    "- Finally, we print the dictionary after each change to see the updates\n",
    "\n",
    "### Note:\n",
    "- `dict['key'] = value` is used to **update** a key's value if the key exists.\n",
    "- If the key does **not exist**, this same syntax is used to **add a new key-value pair**.\n",
    "- Dictionaries are **mutable**, meaning we can modify them after creation."
   ]
  },
  {
   "cell_type": "code",
   "execution_count": 30,
   "id": "14d18c80-cca2-4d1d-b6a7-e09d9a5032ec",
   "metadata": {},
   "outputs": [
    {
     "name": "stdout",
     "output_type": "stream",
     "text": [
      "{'Name': 'Aqsa', 'Depart': 'BCS', 'Batch': 2014}\n",
      "{'Name': 'Aqsa', 'Depart': 'BCS', 'Batch': 'Fall 2021'}\n",
      "{'Name': 'Aqsa', 'Depart': 'BCS', 'Batch': 'Fall 2021', 'University': 'COMSATS'}\n"
     ]
    }
   ],
   "source": [
    "dict = {'Name':\"Aqsa\", 'Depart': \"BCS\", 'Batch': 2014}\n",
    "print (dict)\n",
    "dict['Batch'] = \"Fall 2021\"\n",
    "print (dict)\n",
    "dict['University'] = \"COMSATS\"\n",
    "print(dict)"
   ]
  },
  {
   "cell_type": "markdown",
   "id": "d650be02-4fff-4dbf-8749-e250a85d2441",
   "metadata": {},
   "source": [
    "## Deleting a Key-Value Pair from a Dictionary using `del`\n",
    "\n",
    "We are working with the following dictionary:\n",
    "`dict = {'Name': \"Aqsa\", 'Depart': \"BCS\", 'Batch': Fall 2021}`\n",
    "- First, we print the original dictionary using `print(dict)`\n",
    "- Then, we delete the `'Batch'` key using:  \n",
    "  `del dict['Batch']`\n",
    "- Finally, we print the dictionary again to confirm the deletion\n",
    "\n",
    "### Note:\n",
    "- The `del` keyword is used to **remove a specific key (and its value)** from a dictionary.\n",
    "- If the key doesn’t exist, it will raise a `KeyError`.\n",
    "- Dictionaries remain **mutable**, so changes happen directly in memory."
   ]
  },
  {
   "cell_type": "code",
   "execution_count": 33,
   "id": "7d128894-922c-4856-a901-7b43f60bdc4c",
   "metadata": {},
   "outputs": [
    {
     "name": "stdout",
     "output_type": "stream",
     "text": [
      "{'Name': 'Aqsa', 'Depart': 'BCS', 'Batch': 'Fall 2021'}\n",
      "{'Name': 'Aqsa', 'Depart': 'BCS'}\n"
     ]
    }
   ],
   "source": [
    "dict = {'Name':\"Aqsa\", 'Depart': \"BCS\", 'Batch': \"Fall 2021\"}\n",
    "print (dict)\n",
    "del dict['Batch']\n",
    "print (dict)"
   ]
  },
  {
   "cell_type": "markdown",
   "id": "408aab72-3d1c-425c-bb49-c9ef44ab76be",
   "metadata": {},
   "source": [
    "## Clearing All Elements from a Dictionary using `.clear()`\n",
    "\n",
    "We are working with the following dictionary:\n",
    "`dict = {'Name': \"Aqsa\", 'Depart': \"BCS\", 'Batch': 2021}`\n",
    "- Using the `.clear()` method to remove **all key-value pairs** from the dictionary:\n",
    "  `dict.clear()`\n",
    "- Then printing the dictionary to see that it is now **empty**\n",
    "\n",
    "### Note:\n",
    "\n",
    "- `.clear()` is used to **empty** a dictionary but **not delete** it\n",
    "- After calling `.clear()`, the dictionary still exists, but it contains **no data**\n",
    "- It’s useful when you want to reset a dictionary without deleting the variable"
   ]
  },
  {
   "cell_type": "code",
   "execution_count": 34,
   "id": "2247fc13-c43e-4747-83c0-9910b2bb19b1",
   "metadata": {},
   "outputs": [
    {
     "name": "stdout",
     "output_type": "stream",
     "text": [
      "{}\n"
     ]
    }
   ],
   "source": [
    "dict = {'Name':\"Aqsa\", 'Depart': \"BCS\", 'Batch': 2021}\n",
    "dict.clear()\n",
    "print (dict)"
   ]
  },
  {
   "cell_type": "markdown",
   "id": "b62926ba-8c59-4dcf-9a39-3a916c806ca0",
   "metadata": {},
   "source": [
    "## Tuple Indexing and Slicing in Python\n",
    "\n",
    "We are working with the following tuple:\n",
    "`tup = ('Math', '98', 'C programming', '99')`\n",
    "- Printing the entire tuple:  \n",
    "  `print(tup)`\n",
    "- Accessing the value at index `1`:  \n",
    "  `print(tup[1])` → Should print `'98'`\n",
    "- Slicing the tuple from index 1 to 2 (3 is excluded):  \n",
    "  `print(tup[1:3])` → Should print `('98', 'C programming')`\n",
    "\n",
    "### Note:\n",
    "\n",
    "- Tuples are like lists, but they are **immutable** (can't be changed after creation)\n",
    "- Indexing in Python starts from **0**\n",
    "- Slicing works the same way as with lists: `tuple[start:stop]` (stop index not included)"
   ]
  },
  {
   "cell_type": "code",
   "execution_count": 35,
   "id": "a8bcf571-3329-4ed9-9c37-c6174f14667c",
   "metadata": {},
   "outputs": [
    {
     "name": "stdout",
     "output_type": "stream",
     "text": [
      "('Math', '98', 'C programming', '99')\n",
      "98\n",
      "('98', 'C programming')\n"
     ]
    }
   ],
   "source": [
    "tup = ('Math','98', 'C programming', '99')\n",
    "print (tup)\n",
    "print(tup[1])\n",
    "print(tup[1:3])"
   ]
  },
  {
   "cell_type": "markdown",
   "id": "72ee7404-993a-4921-b79a-cdb8dd9e47fe",
   "metadata": {},
   "source": [
    "## Concatenating Tuples (Because Tuples are Immutable)\n",
    "\n",
    "We are working with two tuples:\n",
    "`tup1 = (12, 34.56)`  \n",
    "`tup2 = ('abc', 'xyz')`\n",
    "- ⚠️ We **cannot update** a value in a tuple like:  \n",
    "  `tup1[0] = 100` → ❌ This will cause an error because **tuples are immutable**\n",
    "- So instead, we **concatenate** two tuples:  \n",
    "  `tup3 = tup1 + tup2`\n",
    "- Finally, we print the new tuple:  \n",
    "  `print(tup3)`\n",
    "  \n",
    "### Note:\n",
    "\n",
    "- Tuples are **immutable**, meaning their elements cannot be changed after creation.\n",
    "- But you can create **a new tuple** by joining existing ones using the `+` operator.\n",
    "- This doesn’t modify the original tuples.\n",
    "\n",
    "📌 Never try to assign a new value to a specific index in a tuple — it will cause a `TypeError`.\n"
   ]
  },
  {
   "cell_type": "code",
   "execution_count": 36,
   "id": "9e9ceed4-7529-4fa2-b0b1-467bc10f9ee2",
   "metadata": {},
   "outputs": [
    {
     "name": "stdout",
     "output_type": "stream",
     "text": [
      "(12, 34.56, 'abc', 'xyz')\n"
     ]
    }
   ],
   "source": [
    "tup1 = (12, 34.56);\n",
    "tup2 = ('abc', 'xyz');\n",
    "tup3 = tup1 + tup2;\n",
    "print (tup3);"
   ]
  },
  {
   "cell_type": "markdown",
   "id": "0f6c2e92-df9c-4758-a514-58d071272235",
   "metadata": {},
   "source": [
    "## Deleting a Tuple Using `del`\n",
    "\n",
    "We are working with the following tuple:\n",
    "`tup = ('physics', 'chemistry', 1997, 2000)`\n",
    "- Printing the original tuple:  \n",
    "  `print(tup)`\n",
    "- Deleting the entire tuple using:  \n",
    "  `del tup`\n",
    "- Trying to print the tuple again after deletion\n",
    "\n",
    "### Note:\n",
    "\n",
    "- `del` keyword **completely deletes the variable** from memory.\n",
    "- After deletion, any reference to that variable will raise a **NameError**\n",
    "- This is different from `.clear()` (used with dictionaries) — because `.clear()` empties the data but keeps the variable.\n",
    "- In this case, `tup` **no longer exists** after `del tup`.\n",
    "\n",
    "📌 Rule: If you use `del variable_name`, that variable is fully erased from the program."
   ]
  },
  {
   "cell_type": "code",
   "execution_count": 37,
   "id": "a54a6d48-20af-4157-af6e-ac7a4a1895f4",
   "metadata": {},
   "outputs": [
    {
     "name": "stdout",
     "output_type": "stream",
     "text": [
      "('physics', 'chemistry', 1997, 2000)\n",
      "After deleting tup : \n"
     ]
    },
    {
     "ename": "NameError",
     "evalue": "name 'tup' is not defined",
     "output_type": "error",
     "traceback": [
      "\u001b[1;31m---------------------------------------------------------------------------\u001b[0m",
      "\u001b[1;31mNameError\u001b[0m                                 Traceback (most recent call last)",
      "Cell \u001b[1;32mIn[37], line 5\u001b[0m\n\u001b[0;32m      3\u001b[0m \u001b[38;5;28;01mdel\u001b[39;00m tup;\n\u001b[0;32m      4\u001b[0m \u001b[38;5;28mprint\u001b[39m (\u001b[38;5;124m\"\u001b[39m\u001b[38;5;124mAfter deleting tup : \u001b[39m\u001b[38;5;124m\"\u001b[39m);\n\u001b[1;32m----> 5\u001b[0m \u001b[38;5;28mprint\u001b[39m (tup)\n",
      "\u001b[1;31mNameError\u001b[0m: name 'tup' is not defined"
     ]
    }
   ],
   "source": [
    "tup = ('physics', 'chemistry', 1997, 2000);\n",
    "print (tup);\n",
    "del tup;\n",
    "print (\"After deleting tup : \");\n",
    "print (tup);"
   ]
  },
  {
   "cell_type": "markdown",
   "id": "b6d64c63-bfac-4d67-9a51-343a3cc44eeb",
   "metadata": {},
   "source": [
    "## Python Sets – Creation, Modification, and Error Handling\n",
    "\n",
    "We are performing different operations on Python sets.\n",
    "1. **Converted a list to a set**  \n",
    "   - `set(list1)` converts list into a set (removes duplicates)\n",
    "\n",
    "2. **Created sets**  \n",
    "   - Set with integers: `{1, 2, 3}`  \n",
    "   - Set with mixed data types: `{1, \"Hello\", 1.2, 'C'}`\n",
    "\n",
    "3. **Added Elements**  \n",
    "   - `.add('D')` → Adds a single value  \n",
    "   - `.update(list1)` → Adds multiple values from a list\n",
    "\n",
    "4. **Removed Elements**  \n",
    "   - `.discard('G')` → No error if 'G' doesn't exist  \n",
    "   - `.remove('G')` → ❌ Raises `KeyError` if 'G' is missing\n",
    "   - \n",
    "### Notes:\n",
    "- Sets are **unordered** and **do not allow duplicates**\n",
    "- Use `.add()` for one value, `.update()` for many\n",
    "- Prefer `.discard()` over `.remove()` to avoid errors\n",
    "- Sets can hold different data types\n",
    "\n",
    "📌 Always use `type()` to confirm if your data is a set."
   ]
  },
  {
   "cell_type": "code",
   "execution_count": 41,
   "id": "008e6cdb-09ed-41e7-b3aa-c6cb0b871a7d",
   "metadata": {},
   "outputs": [
    {
     "name": "stdout",
     "output_type": "stream",
     "text": [
      "<class 'list'>\n",
      "{1, 2, 3, 4, 5}\n",
      "<class 'set'>\n",
      "{1, 2, 3}\n",
      "{1, 1.2, 2, 3, 4, 5, 'Hello', 'D', 'C'}\n"
     ]
    },
    {
     "ename": "KeyError",
     "evalue": "'G'",
     "output_type": "error",
     "traceback": [
      "\u001b[1;31m---------------------------------------------------------------------------\u001b[0m",
      "\u001b[1;31mKeyError\u001b[0m                                  Traceback (most recent call last)",
      "Cell \u001b[1;32mIn[41], line 26\u001b[0m\n\u001b[0;32m     24\u001b[0m \u001b[38;5;66;03m# removing values\u001b[39;00m\n\u001b[0;32m     25\u001b[0m my_set\u001b[38;5;241m.\u001b[39mdiscard(\u001b[38;5;124m'\u001b[39m\u001b[38;5;124mG\u001b[39m\u001b[38;5;124m'\u001b[39m)  \u001b[38;5;66;03m# safe, no error\u001b[39;00m\n\u001b[1;32m---> 26\u001b[0m my_set\u001b[38;5;241m.\u001b[39mremove(\u001b[38;5;124m'\u001b[39m\u001b[38;5;124mG\u001b[39m\u001b[38;5;124m'\u001b[39m)\n",
      "\u001b[1;31mKeyError\u001b[0m: 'G'"
     ]
    }
   ],
   "source": [
    "# list\n",
    "list1 = [1, 2, 3, 4, 5]\n",
    "print(type(list1))\n",
    "\n",
    "# convert list to set\n",
    "my_set = set(list1)\n",
    "print(my_set)\n",
    "print(type(my_set))\n",
    "\n",
    "# set of integers\n",
    "my_set = {1, 2, 3}\n",
    "print(my_set)\n",
    "\n",
    "# set of mixed data types\n",
    "my_set = {1, \"Hello\", 1.2, 'C'}\n",
    "\n",
    "# adding a single value\n",
    "my_set.add('D')\n",
    "\n",
    "# adding multiple values\n",
    "my_set.update(list1)\n",
    "print(my_set)\n",
    "\n",
    "# removing values\n",
    "my_set.discard('G')  # safe, no error\n",
    "my_set.remove('G')   # will raise KeyError if 'G' not in set\n"
   ]
  },
  {
   "cell_type": "markdown",
   "id": "a4f77856-6d2d-4013-8c84-27e6be4fab73",
   "metadata": {},
   "source": [
    "## Comparison Operation: `1 < 3`\n",
    "\n",
    "We are performing a basic comparison using the **less than (`<`)** operator.\n",
    "- Comparing two numbers:\n",
    "  ```python\n",
    "  1 < 3\n",
    "### Note:\n",
    "- < is a relational operator used to compare two values.\n",
    "- Returns True if the left side is less than the right side, otherwise False.\n",
    "\n",
    "📌 1 < 3 is True because 1 is indeed smaller than 3."
   ]
  },
  {
   "cell_type": "code",
   "execution_count": 43,
   "id": "297b4390-b00e-4bfe-b7a4-3bf41e32c09c",
   "metadata": {},
   "outputs": [
    {
     "data": {
      "text/plain": [
       "True"
      ]
     },
     "execution_count": 43,
     "metadata": {},
     "output_type": "execute_result"
    }
   ],
   "source": [
    "1<3"
   ]
  },
  {
   "cell_type": "markdown",
   "id": "e3019ff8-712a-4f68-a9ae-05fef6db2dc8",
   "metadata": {},
   "source": [
    "## Comparison Operation: `15 <= 23`\n",
    "\n",
    "We are performing a basic comparison using the **less than or equal to (`<=`)** operator.\n",
    "- Comparing two numbers:\n",
    "  ```python\n",
    "  15 <= 23\n",
    "### Note:\n",
    "- <= returns True if the left side is less than or equal to the right side.\n",
    "- In this case, 15 is less than 23, so the result is True.\n",
    "\n",
    "📌 Use <= when you want to allow equality as well as less-than."
   ]
  },
  {
   "cell_type": "code",
   "execution_count": 44,
   "id": "30d0cde4-3098-463a-980e-3c226a0beb57",
   "metadata": {},
   "outputs": [
    {
     "data": {
      "text/plain": [
       "True"
      ]
     },
     "execution_count": 44,
     "metadata": {},
     "output_type": "execute_result"
    }
   ],
   "source": [
    "15<=23"
   ]
  },
  {
   "cell_type": "markdown",
   "id": "85ad9603-d6e7-4ff1-8d4c-2631cc88ccaa",
   "metadata": {},
   "source": [
    "## Comparison Operation: `\"Aqsa\" == \"Airah\"`\n",
    "\n",
    "We are performing a **string comparison** using the **equality (`==`)** operator.\n",
    "- Comparing two strings:\n",
    "  ```python\n",
    "  \"Aqsa\" == \"Airah\"\n",
    "### Note:\n",
    "- == checks for equality — both the value and case must match.\n",
    "- In this case, 'Aqsa' is not equal to \"Airah\" — so the result is False.\n",
    "\n",
    "📌 Even though both are strings, the content is different, so the comparison fails."
   ]
  },
  {
   "cell_type": "code",
   "execution_count": 45,
   "id": "f8e6363a-50fc-4a0e-86be-ba216fd51cc3",
   "metadata": {},
   "outputs": [
    {
     "data": {
      "text/plain": [
       "False"
      ]
     },
     "execution_count": 45,
     "metadata": {},
     "output_type": "execute_result"
    }
   ],
   "source": [
    "\"Aqsa\"==\"Airah\""
   ]
  },
  {
   "cell_type": "markdown",
   "id": "6ccb01a6-4ca0-4537-ae56-24b40ca78803",
   "metadata": {},
   "source": [
    "## Comparison Operation: `\"Aqsa\" != \"Aqsa\"`\n",
    "\n",
    "We are performing a **string comparison** using the **not equal (`!=`)** operator.\n",
    "- Comparing two strings:\n",
    "  ```python\n",
    "  \"Aqsa\" != \"Aqsa\"\n",
    "  \n",
    "### Note:\n",
    "- != returns True only if the two values are different.\n",
    "- Since both strings are exactly the same (\"Mehvish\"), the result is False.\n",
    "\n",
    "📌 Use != to test inequality between two values."
   ]
  },
  {
   "cell_type": "code",
   "execution_count": 46,
   "id": "0096959c-4e96-4588-bebb-2b0c55ea3911",
   "metadata": {},
   "outputs": [
    {
     "data": {
      "text/plain": [
       "False"
      ]
     },
     "execution_count": 46,
     "metadata": {},
     "output_type": "execute_result"
    }
   ],
   "source": [
    "\"Aqsa\"!=\"Aqsa\""
   ]
  },
  {
   "cell_type": "markdown",
   "id": "70bb73e2-967d-44ea-8255-dddf37d72695",
   "metadata": {},
   "source": [
    "## Logical Operation: `(1 == 1) or (5 > 2)`\n",
    "\n",
    "We are performing a logical operation using the **`or`** operator.\n",
    "- Evaluating two conditions:\n",
    "  ```python\n",
    "  (1 == 1)     # True\n",
    "  (5 > 2)      # True\n",
    "- or returns True if at least one of the conditions is True.\n",
    "- In this case, both are True, so the final result is also True."
   ]
  },
  {
   "cell_type": "code",
   "execution_count": 47,
   "id": "72ce147d-0f91-461d-b2e9-d28b41566880",
   "metadata": {},
   "outputs": [
    {
     "data": {
      "text/plain": [
       "True"
      ]
     },
     "execution_count": 47,
     "metadata": {},
     "output_type": "execute_result"
    }
   ],
   "source": [
    "(1==1)or(5>2)"
   ]
  },
  {
   "cell_type": "markdown",
   "id": "e4403410-68cc-4e03-9e42-15d15e04683b",
   "metadata": {},
   "source": [
    "## Logical Operation: `(1 < 2) and (2 < 1)`\n",
    "\n",
    "We are performing a logical operation using the **`and`** operator.\n",
    "- Evaluating two conditions:\n",
    "  ```python\n",
    "  (1 < 2)     # True\n",
    "  (2 < 1)     # False\n",
    "### Note:\n",
    "- and returns True only if both conditions are True.\n",
    "In this case:\n",
    "- First condition is True\n",
    "- Second condition is False\n",
    "Since one is false, the result is False.\n",
    "\n",
    "📌 Use and when both conditions must be true for the overall result to be true"
   ]
  },
  {
   "cell_type": "code",
   "execution_count": 48,
   "id": "10b29c08-8b8e-4505-afd9-0954342eede6",
   "metadata": {},
   "outputs": [
    {
     "data": {
      "text/plain": [
       "False"
      ]
     },
     "execution_count": 48,
     "metadata": {},
     "output_type": "execute_result"
    }
   ],
   "source": [
    "(1<2)and(2<1)"
   ]
  },
  {
   "cell_type": "markdown",
   "id": "edc60daa-08ec-43a2-8d83-3875c19420cb",
   "metadata": {},
   "source": [
    "## Using `if-else` to Check Even or Odd Number\n",
    "\n",
    "We are checking whether the number `25` is even or odd using the modulo (`%`) operator\n",
    "    \n",
    "- % is the modulo operator, which returns the remainder after division.\n",
    "- 25 % 2 returns 1, which means 25 is not divisible by 2 — so it is odd.\n",
    "- Since 25 % 2 == 0 is False, the else block runs.\n",
    "    \n",
    "### Note:\n",
    "- % is the modulo operator — it gives the remainder after division.\n",
    "- Any number % 2 gives:\n",
    "  \n",
    "`0 → Even number\n",
    "1 → Odd number`\n",
    "\n",
    "Always use == 0 in the condition when checking for even numbers.\n",
    "\n",
    "📌 Indentation is very important in Python. Always use 4 spaces or a tab inside if, else, while, etc."
   ]
  },
  {
   "cell_type": "code",
   "execution_count": 50,
   "id": "b4d41260-8c03-4875-87d1-988a2d3f91ed",
   "metadata": {},
   "outputs": [
    {
     "name": "stdout",
     "output_type": "stream",
     "text": [
      "Odd\n"
     ]
    }
   ],
   "source": [
    "if 25 % 2 == 0:\n",
    "    print('Even')\n",
    "else:\n",
    "    print('Odd')"
   ]
  },
  {
   "cell_type": "markdown",
   "id": "f2f501e9-3297-4789-809b-f0aba88c66aa",
   "metadata": {},
   "source": [
    "## Example of `for` Loop: Calculating Factorial\n",
    "\n",
    "We are using a `for` loop to calculate the factorial of a number (5 in this case).\n",
    "\n",
    "- range(1, N+1) gives numbers from `1 to 5`\n",
    "- fact *= i is shorthand for fact = `fact * i`\n",
    "- The loop multiplies fact by each i from `1 to 5`\n",
    "- Final value: `1×2×3×4×5 = 120`\n",
    "\n",
    "📌 Make sure the loop body is properly indented, otherwise Python throws an IndentationError"
   ]
  },
  {
   "cell_type": "code",
   "execution_count": 51,
   "id": "cc5635f5-aff1-4943-be88-0ce181c45d95",
   "metadata": {},
   "outputs": [
    {
     "name": "stdout",
     "output_type": "stream",
     "text": [
      "120\n"
     ]
    }
   ],
   "source": [
    "fact = 1\n",
    "N = 5\n",
    "for i in range(1, N + 1):\n",
    "    fact *= i\n",
    "print(fact)"
   ]
  },
  {
   "cell_type": "markdown",
   "id": "bcd1d6e4-0e8d-4877-8931-991cadec4975",
   "metadata": {},
   "source": [
    "## Example of `while` Loop: Counting from 1 to 10\n",
    "\n",
    "We are using a `while` loop to print numbers from 1 to 10.\n",
    "\n",
    "- a = 0 initializes the variable\n",
    "- while a < 10 continues the loop until a reaches 10\n",
    "- a = a + 1 increments a by 1 on each iteration\n",
    "- print(a) prints the current value of a\n",
    "- Loop stops when a becomes 10\n",
    "\n",
    "📌 Always indent the block inside while or for loops to avoid errors."
   ]
  },
  {
   "cell_type": "code",
   "execution_count": 1,
   "id": "f6198237-ef62-4cc1-beab-8fcc4bdef1a9",
   "metadata": {},
   "outputs": [
    {
     "name": "stdout",
     "output_type": "stream",
     "text": [
      "1\n",
      "2\n",
      "3\n",
      "4\n",
      "5\n",
      "6\n",
      "7\n",
      "8\n",
      "9\n",
      "10\n"
     ]
    }
   ],
   "source": [
    "a = 0\n",
    "while a < 10:\n",
    "    a = a + 1\n",
    "    print(a)"
   ]
  },
  {
   "cell_type": "markdown",
   "id": "ebbd6850-092d-4adc-93fc-bbbe56011f26",
   "metadata": {},
   "source": [
    "## Example: User-Defined Function in Python\n",
    "\n",
    "We are defining a simple function that takes a string argument and prints it.\n",
    "- We define a function using the `def` keyword and name it `printme`.\n",
    "- This function takes one input parameter called `str` (which holds a string).\n",
    "- The code written inside the function runs only when we **call** the function.\n",
    "- When we call the function:\n",
    "  - It prints the string passed to it.\n",
    "  - Then it reaches the `return` statement — which is optional in this case because nothing is being returned.\n",
    "- After the function is defined, it is **called** with a string:  \n",
    "  `\"I'm first call to user defined function!\"`\n",
    "\n",
    "### Note:\n",
    "\n",
    "- Functions help us **reuse code** and keep it organized.\n",
    "- The code inside the function must be **indented** properly.\n",
    "- The `str` in the parameter is just a variable name — it can be changed.\n",
    "- The `return` keyword is used to exit the function or return a value (optional in this case).\n",
    "\n",
    "📌 Functions are useful when the same action needs to be performed multiple times in a program."
   ]
  },
  {
   "cell_type": "code",
   "execution_count": 2,
   "id": "fcd64ad3-394b-4700-a363-57ee0d7441d6",
   "metadata": {},
   "outputs": [
    {
     "name": "stdout",
     "output_type": "stream",
     "text": [
      "I'm first call to user defined function!\n"
     ]
    }
   ],
   "source": [
    "def printme(str):\n",
    "    print(str)\n",
    "    return\n",
    "printme(\"I'm first call to user defined function!\")"
   ]
  },
  {
   "cell_type": "markdown",
   "id": "f51dc27f-61a5-4d27-bfbb-cdd994a0b5db",
   "metadata": {},
   "source": [
    "## Example: Function That Returns a Value\n",
    "\n",
    "We are defining a function that takes a number as input and returns its square.\n",
    "\n",
    "- We define a function named `f` using the `def` keyword.\n",
    "- It takes one parameter: `x`.\n",
    "- Inside the function, we calculate `x ** 2` — which means \"x raised to the power 2\" or simply \"x squared\".\n",
    "- The function uses `return` to **send the result back** to wherever it was called.\n",
    "- We call the function with the value `8` using `f(8)`.\n",
    "- The result is then printed outside the function using `print()`\n",
    "- `x ** 2` means `x × x`\n",
    "- So, when `x = 8`, the result is `8 × 8 = 64`\n",
    "- Because the function **returns** a value, it can be used in expressions or printed\n",
    "- `return` is important when you want to use the result later (instead of just printing inside the function)\n",
    "\n",
    "### Note:  \n",
    "Use `return` in a function when you want to send a value back for further use."
   ]
  },
  {
   "cell_type": "code",
   "execution_count": 4,
   "id": "7bfa8b8e-dd7c-4a79-a133-4dcbdd4fd81e",
   "metadata": {},
   "outputs": [
    {
     "name": "stdout",
     "output_type": "stream",
     "text": [
      "64\n"
     ]
    }
   ],
   "source": [
    "def f(x):\n",
    "    return x**2\n",
    "\n",
    "print(f(8))"
   ]
  },
  {
   "cell_type": "markdown",
   "id": "1ba5628c-9c71-4721-abd9-220592d241e5",
   "metadata": {},
   "source": [
    "## Lambda Function in Python\n",
    "\n",
    "We are learning about **lambda expressions**, which are small anonymous functions written in a single line.\n",
    "\n",
    "- We create a lambda function named `times3` that takes one input (`var`) and returns `var * 3`\n",
    "- This is a shorter way of writing simple functions without using the full `def` keyword\n",
    "- The function is called using `times3(10)`\n",
    "- It multiplies 10 by 3 and gives the result\n",
    "- A **lambda function** is used for small operations, especially when we don’t want to write a full function\n",
    "- Syntax: `lambda arguments: expression`\n",
    "- In this case:\n",
    "  - `lambda var: var * 3` → means take input `var`, multiply it by 3, and return the result\n",
    "- We assigned this lambda function to the name `times3`, so we can call it like a normal function\n",
    "  \n",
    "### Note:\n",
    "Use lambda functions for **simple, one-line** operations, often useful in filtering, mapping, or sorting tasks."
   ]
  },
  {
   "cell_type": "code",
   "execution_count": 5,
   "id": "c9df8cd7-4dbe-4091-be63-eb0da8d651f6",
   "metadata": {},
   "outputs": [
    {
     "data": {
      "text/plain": [
       "30"
      ]
     },
     "execution_count": 5,
     "metadata": {},
     "output_type": "execute_result"
    }
   ],
   "source": [
    "times3 = lambda var:var*3\n",
    "times3(10)"
   ]
  },
  {
   "cell_type": "markdown",
   "id": "6c73e6b7-74c1-4bf2-9023-8c7268fdf217",
   "metadata": {},
   "source": [
    "## Using `lambda` with `map()` to Count Word Lengths\n",
    "\n",
    "We are working with a sentence and calculating the length of each word using a `lambda` function along with `map()`.\n",
    "\n",
    "- A sentence is given: `\"It is raining cats and dogs\"`\n",
    "- The `split()` function is used to break the sentence into a list of words\n",
    "- The result is: `['It', 'is', 'raining', 'cats', 'and', 'dogs']`\n",
    "- We use the `map()` function along with a `lambda` expression to calculate the length of each word\n",
    "- `lambda word: len(word)` → This anonymous function returns the length of each word\n",
    "- `map()` applies this lambda to every word in the list\n",
    "- Finally, `list(lengths)` is used to convert the mapped result into a list\n",
    "- `'It'` → 2 characters  \n",
    "- `'is'` → 2 characters  \n",
    "- `'raining'` → 7 characters  \n",
    "- `'cats'` → 4 characters  \n",
    "- `'and'` → 3 characters  \n",
    "- `'dogs'` → 4 characte\n",
    "### Note:\n",
    "- `map()` is used to apply a function to each item in a sequence  \n",
    "- `lambda` lets us define the function quickly without using `def`  \n",
    "- The result from `map()` must be converted to a list to view the output"
   ]
  },
  {
   "cell_type": "code",
   "execution_count": 6,
   "id": "1926a493-0ab7-4488-bcc2-4d428d4a8812",
   "metadata": {},
   "outputs": [
    {
     "name": "stdout",
     "output_type": "stream",
     "text": [
      "['It', 'is', 'raining', 'cats', 'and', 'dogs']\n"
     ]
    },
    {
     "data": {
      "text/plain": [
       "[2, 2, 7, 4, 3, 4]"
      ]
     },
     "execution_count": 6,
     "metadata": {},
     "output_type": "execute_result"
    }
   ],
   "source": [
    "sentence = 'It is raining cats and dogs'\n",
    "words = sentence.split()\n",
    "print (words)\n",
    "lengths = map(lambda word: len(word), words)\n",
    "list(lengths)"
   ]
  },
  {
   "cell_type": "markdown",
   "id": "923c0a02-5281-4c76-9544-1510a42f2602",
   "metadata": {},
   "source": [
    "## Using `lambda` with `filter()` to Extract Odd Numbers\n",
    "\n",
    "We are using the `filter()` function along with a `lambda` expression to filter out only the **odd numbers** from a list of Fibonacci numbers.\n",
    "\n",
    "- We are given a list of Fibonacci numbers:  \n",
    "  `[0, 1, 1, 2, 3, 5, 8, 13, 21, 34, 55]`\n",
    "- We use the `filter()` function to **select only the numbers that are odd**\n",
    "- A `lambda` expression is used:  \n",
    "  `lambda x: x % 2`  \n",
    "  This checks if a number has a remainder when divided by 2 → which means it is odd\n",
    "- `filter()` applies this check to each element in the list\n",
    "- The result is an iterator, so we convert it to a list to view the filtered values\n",
    "- `% 2` gives remainder after dividing by 2  \n",
    "- If the remainder is `1`, the number is odd  \n",
    "- So this filter keeps only the numbers where `x % 2 == 1`\n",
    "- Even numbers like `0`, `2`, `8`, `34` are skipped\n",
    "\n",
    "### Note: \n",
    "- `filter()` is used to extract items that match a condition  \n",
    "- `lambda` provides a quick way to write the condition inline  \n",
    "- Always convert the `filter()` result to a list if you want to print or store it"
   ]
  },
  {
   "cell_type": "code",
   "execution_count": 8,
   "id": "a10e0696-8997-4d8e-bced-d16c15962540",
   "metadata": {},
   "outputs": [
    {
     "data": {
      "text/plain": [
       "[1, 1, 3, 5, 13, 21, 55]"
      ]
     },
     "execution_count": 8,
     "metadata": {},
     "output_type": "execute_result"
    }
   ],
   "source": [
    "fib = [0,1,1,2,3,5,8,13,21,34,55]\n",
    "result1 = filter(lambda x: x % 2, fib)\n",
    "list(result1)"
   ]
  },
  {
   "cell_type": "markdown",
   "id": "f28be7cd-09a0-4a63-94dd-2d297687c716",
   "metadata": {},
   "source": [
    "## Using `lambda` with `filter()` to Extract Even Numbers\n",
    "\n",
    "We are using a `lambda` function with the `filter()` method to filter out only the **even numbers** from a list of Fibonacci numbers.\n",
    "\n",
    "- A list of Fibonacci numbers is given:  \n",
    "  `[0, 1, 1, 2, 3, 5, 8, 13, 21, 34, 55]`\n",
    "- We want to extract only the **even numbers** from this list\n",
    "- A `lambda` function is used:  \n",
    "  `lambda x: x % 2 == 0`  \n",
    "  This checks if a number is divisible by 2 with no remainder\n",
    "- `filter()` applies this condition to every item in the list\n",
    "- The result is an iterator, so we convert it to a list to view the filtered values\n",
    "- `% 2 == 0` means the number is divisible by 2 (i.e., even)\n",
    "- So, numbers like `0`, `2`, `8`, and `34` are selected\n",
    "- Odd numbers like `1`, `3`, `5`, etc., are ignored\n",
    "\n",
    "### Note:*\n",
    "- `filter()` is used to extract elements that **match a condition**\n",
    "- `lambda` provides a quick, inline way to write that condition\n",
    "- Always use `list()` to view the result from `filter()` as it returns a filter object (iterator)"
   ]
  },
  {
   "cell_type": "code",
   "execution_count": 9,
   "id": "4576e102-2ab0-461c-a601-9f5b5cdb0030",
   "metadata": {},
   "outputs": [
    {
     "data": {
      "text/plain": [
       "[0, 2, 8, 34]"
      ]
     },
     "execution_count": 9,
     "metadata": {},
     "output_type": "execute_result"
    }
   ],
   "source": [
    "fib = [0,1,1,2,3,5,8,13,21,34,55]\n",
    "result2 = filter(lambda x: x % 2 == 0, fib)\n",
    "list (result2)"
   ]
  },
  {
   "cell_type": "markdown",
   "id": "4ca42860-47fa-4425-81d2-c0f2b4d9f022",
   "metadata": {},
   "source": [
    "## Taking User Input in Python\n",
    "\n",
    "We are using the `input()` function to get input from the user and then display it on the screen.\n",
    "\n",
    "- The program prompts the user with the message: `\"Enter your name:\"`\n",
    "- Whatever the user types in response is stored in a variable called `string`\n",
    "- Then `print()` is used to display the entered name\n",
    "- `input()` is a built-in Python function that pauses the program and waits for the user to type something\n",
    "- The text entered is always stored as a **string**\n",
    "- In some environments (like Python 2), `six.moves.input` is used to make input work the same as in Python 3\n",
    "- `print()` simply displays the stored input\n",
    "\n",
    "### Note: \n",
    "Make sure you are running this in a console or terminal that supports user interaction — in some notebook environments, `input()` may not behave as expected."
   ]
  },
  {
   "cell_type": "code",
   "execution_count": 12,
   "id": "e9d900f7-1503-4518-b9b9-053d514af7b6",
   "metadata": {},
   "outputs": [
    {
     "name": "stdin",
     "output_type": "stream",
     "text": [
      "Enter your name:  Aqsa\n"
     ]
    },
    {
     "name": "stdout",
     "output_type": "stream",
     "text": [
      "Aqsa\n"
     ]
    }
   ],
   "source": [
    "from six.moves import input\n",
    "string = input(\"Enter your name: \");\n",
    "print(string)"
   ]
  },
  {
   "cell_type": "markdown",
   "id": "5bc6fd88-a617-41aa-a5c3-0edd830a944c",
   "metadata": {},
   "source": [
    "## Full File Handling Example in Python: Writing and Reading a File\n",
    "\n",
    "In this example, we are creating a file, writing content to it, then reading that content back and printing it.\n",
    "\n",
    "1. **Creating and Writing to the File:**\n",
    "   - We open `\"file.txt\"` in `\"w\"` mode.\n",
    "   - This mode creates the file if it doesn’t exist or overwrites it if it does.\n",
    "   - We write two lines of text into the file using `write()`:\n",
    "     - `This is a test file.`\n",
    "     - `Welcome to Python file handling!`\n",
    "   - We then close the file using `close()`.\n",
    "\n",
    "2. **Reading from the File:**\n",
    "   - We reopen the file in `\"r+\"` mode which allows both reading and writing.\n",
    "   - We read the content of the file using `read()`.\n",
    "   - The content is stored in a variable and printed.\n",
    "   - We then close the file again using `close()`.\n",
    "\n",
    "- `\"w\"` mode is used when we want to write new content into a file (and overwrite if already present).\n",
    "- `\"r+\"` mode is used to both read and write, but the file **must already exist**.\n",
    "- `read()` fetches all text from the file as a single string.\n",
    "- `close()` is used to safely release the file resource after reading or writing.\n",
    "\n",
    "### Note:\n",
    "Always use `close()` after opening a file to avoid memory or file lock issues. You can also use `with open(...)` to handle files automatically."
   ]
  },
  {
   "cell_type": "code",
   "execution_count": 18,
   "id": "4a4e51c2-0104-4d2c-be4d-826cd3f3f52e",
   "metadata": {},
   "outputs": [
    {
     "name": "stdout",
     "output_type": "stream",
     "text": [
      "This is a test file.\n",
      "Welcome to Python file handling!\n"
     ]
    }
   ],
   "source": [
    "fileOpen = open(\"file.txt\", \"w\") \n",
    "fileOpen.write(\"This is a test file.\\nWelcome to Python file handling!\")\n",
    "fileOpen.close()\n",
    "\n",
    "fileOpen = open(\"file.txt\", \"r+\")\n",
    "str = fileOpen.read()\n",
    "print(str)\n",
    "fileOpen.close()\n"
   ]
  },
  {
   "cell_type": "markdown",
   "id": "0b276a90-fe99-43c5-93ae-f674fe8acd9e",
   "metadata": {},
   "source": [
    "## Appending and Reading a File in Python\n",
    "\n",
    "In this example, we are learning how to **append new data** to an existing file and then **read** the updated content\n",
    "\n",
    "1. **Opening File in Append Mode (`a+`):**\n",
    "   - `a+` mode is used to **append** new data to the end of the file.\n",
    "   - If the file does not exist, it will be created.\n",
    "   - We add the text: `\" Information Technology Lahore\"` at the end of the existing file content.\n",
    "   - We then close the file to save the changes.\n",
    "\n",
    "2. **Reopening File in Read Mode (`r+`):**\n",
    "   - `r+` mode is used to **read and write** from the beginning of the file.\n",
    "   - We read the full content using `read()`.\n",
    "   - The content is stored in a variable and printed.\n",
    "   - The file is closed again at the end.\n",
    "\n",
    "- `a+` → Appends new data without deleting existing content. The file pointer is at the end.\n",
    "- `r+` → Allows reading and writing from the beginning of the file (but doesn't erase content).\n",
    "- `read()` reads all content starting from the top of the file.\n",
    "- Always use `close()` after file operations to save changes and free up memory.\n",
    "\n",
    "📌 **Tip:**  \n",
    "You can use `read(12)` instead of `read()` to read only the **first 12 characters** of the file."
   ]
  },
  {
   "cell_type": "code",
   "execution_count": 20,
   "id": "216b985d-1a79-41f2-91f1-92cd41b7090c",
   "metadata": {},
   "outputs": [
    {
     "name": "stdout",
     "output_type": "stream",
     "text": [
      "This is a test file.\n",
      "Welcome to Python file handling! Information Technology Lahore\n"
     ]
    }
   ],
   "source": [
    "fileOpen = open(\"file.txt\", \"a+\")\n",
    "fileOpen.write(\" Information Technology Lahore\")\n",
    "fileOpen.close()\n",
    "\n",
    "fileOpen = open(\"file.txt\", \"r+\")\n",
    "string = fileOpen.read()  \n",
    "print(string)\n",
    "\n",
    "fileOpen.close()"
   ]
  },
  {
   "cell_type": "markdown",
   "id": "a8cec2b7-1453-47d7-a279-10f06aedcc80",
   "metadata": {},
   "source": [
    "## File Pointer Control in Python: Using `tell()` and `seek()`\n",
    "\n",
    "In this example, we are learning how to check and reset the position of the file pointer while reading a file.\n",
    "\n",
    "1. **Opening the File:**\n",
    "   - The file `\"file.txt\"` is opened in `\"r+\"` mode, which allows both reading and writing.\n",
    "   - We read the first 10 characters using `read(10)` and store them in a variable.\n",
    "\n",
    "2. **Checking File Pointer Position:**\n",
    "   - We use `tell()` to find the current position of the file pointer.\n",
    "   - This tells us how many bytes (or characters) have been read so far.\n",
    "\n",
    "3. **Resetting the File Pointer:**\n",
    "   - We use `seek(0, 0)` to move the pointer back to the **start** of the file.\n",
    "   - The first `0` is the offset, and the second `0` tells it to move from the beginning.\n",
    "\n",
    "4. **Reading Again:**\n",
    "   - We again read the first 10 characters to confirm that the file pointer was reset.\n",
    "\n",
    "5. **Closing the File:**\n",
    "   - We use `close()` to close the file after reading is done.\n",
    "\n",
    "- `read(10)` → Reads first 10 characters\n",
    "- `tell()` → Shows current pointer position (after reading)\n",
    "- `seek(0, 0)` → Resets pointer to beginning of file\n",
    "- After resetting, we can read the same content again\n",
    "\n",
    "📌 **Tip:**  \n",
    "Use `tell()` and `seek()` when you want to **navigate through large files**, or **re-read specific sections** without reopening the file."
   ]
  },
  {
   "cell_type": "code",
   "execution_count": 21,
   "id": "e493aeac-12ae-4229-b841-c38af3335d23",
   "metadata": {},
   "outputs": [
    {
     "name": "stdout",
     "output_type": "stream",
     "text": [
      "ReadStringis:\n",
      " This is a \n",
      "Currentfileposition:\n",
      " 10\n",
      "AgainreadStringis:\n",
      " This is a \n"
     ]
    }
   ],
   "source": [
    "fo = open(\"file.txt\", \"r+\")\n",
    "str = fo.read(10);\n",
    "print(\"ReadStringis:\\n\",str)\n",
    "\n",
    "position = fo.tell();\n",
    "print(\"Currentfileposition:\\n\", position)\n",
    "\n",
    "position = fo.seek(0, 0);\n",
    "str = fo.read(10);\n",
    "print(\"AgainreadStringis:\\n\", str)\n",
    "\n",
    "fo.close()"
   ]
  },
  {
   "cell_type": "markdown",
   "id": "a4e38134-abfa-4886-b7cf-58a416a17456",
   "metadata": {},
   "source": [
    "## Renaming a File in Python using `os.rename()`\n",
    "\n",
    "In this example, we are renaming an existing file using Python's built-in `os` module.\n",
    "\n",
    "1. **Importing the `os` Module:**\n",
    "   - The `os` module provides functions to interact with the operating system.\n",
    "   - We use it to rename, delete, or check files and directories.\n",
    "\n",
    "2. **Renaming the File:**\n",
    "   - The `rename()` function takes two arguments:\n",
    "     - The current file name: `\"file.txt\"`\n",
    "     - The new name we want to give: `\"newfile.txt\"`\n",
    "   - If the file `\"file.txt\"` exists in the current working directory, it gets renamed to `\"newfile.txt\"`\n"
   ]
  },
  {
   "cell_type": "code",
   "execution_count": null,
   "id": "a2f2491c-19aa-4b7f-a0df-bd4287421ab5",
   "metadata": {},
   "outputs": [],
   "source": [
    "import os\n",
    "os.rename(\"file.txt\",\"newfile.txt\")"
   ]
  },
  {
   "cell_type": "code",
   "execution_count": 31,
   "id": "d3395b2c-dffe-44e5-b93b-b900101d3118",
   "metadata": {},
   "outputs": [
    {
     "name": "stdout",
     "output_type": "stream",
     "text": [
      "['.ipynb_checkpoints', 'Aqsa_Assignment_01_Python_Tutorial.ipynb.ipynb', 'newfile.txt', 'trail base.ipynb']\n"
     ]
    }
   ],
   "source": [
    "import os\n",
    "print(os.listdir())"
   ]
  },
  {
   "cell_type": "markdown",
   "id": "3f3d9388-9eae-4390-ba3d-97d1ba8f6a86",
   "metadata": {},
   "source": [
    "## Removing a File in Python using `os.remove()`\n",
    "\n",
    "In this example, we are deleting a file from our system using Python's built-in `os` module.\n",
    "\n",
    "1. **Importing the `os` Module:**\n",
    "   - Python’s `os` module provides functions to interact with the file system.\n",
    "\n",
    "2. **Deleting the File:**\n",
    "   - We use `os.remove(\"newfile.txt\")` to delete a file named `\"newfile.txt\"` from the current directory."
   ]
  },
  {
   "cell_type": "code",
   "execution_count": 32,
   "id": "c2d78fb0-9a8d-4b73-aa11-f72951f9ec94",
   "metadata": {},
   "outputs": [],
   "source": [
    "os.remove(\"newfile.txt\")"
   ]
  },
  {
   "cell_type": "code",
   "execution_count": 33,
   "id": "0b20bfd8-78b8-4ec5-b4d7-948765d9eacf",
   "metadata": {},
   "outputs": [
    {
     "name": "stdout",
     "output_type": "stream",
     "text": [
      "['.ipynb_checkpoints', 'Aqsa_Assignment_01_Python_Tutorial.ipynb.ipynb', 'trail base.ipynb']\n"
     ]
    }
   ],
   "source": [
    "import os\n",
    "print(os.listdir())"
   ]
  },
  {
   "cell_type": "markdown",
   "id": "c9e5e459-fb2a-49e2-9765-829a9b39ffb2",
   "metadata": {},
   "source": [
    "## Creating a Pandas Series with Random Data\n",
    "\n",
    "In this example, we are creating a **Pandas Series** using random values and custom indexes.\n",
    "\n",
    "1. **Importing Libraries:**\n",
    "   - `pandas as pd`: For handling data structures like Series and DataFrames.\n",
    "   - `numpy as np`: For generating random numbers.\n",
    "   - `matplotlib.pyplot`: (Though not used here yet) is generally used for plotting.\n",
    "\n",
    "2. **Creating a Series:**\n",
    "   - We use `pd.Series()` to create a one-dimensional labeled array.\n",
    "   - The data inside the Series is generated using `np.random.randn(5)`, which creates 5 random numbers from a **standard normal distribution** (mean = 0, std = 1).\n",
    "\n",
    "\n",
    "### Note:\n",
    "The actual values will change every time because they're randomly generated.\n",
    "\n",
    "### Key Concepts:\n",
    "\n",
    "- **Pandas Series** is like a column in Excel: it has both **values** and **labels (indexes)**.\n",
    "- `np.random.randn()` is useful when simulating or testing data.\n",
    "- Indexes allow you to access data like: `s['a']` or `s['c']`.\n",
    "\n",
    "📌 Pandas Series is a foundational part of working with DataFrames and real-world data analysis.\n"
   ]
  },
  {
   "cell_type": "code",
   "execution_count": 34,
   "id": "37886bce-8fb3-4105-8c52-9423e99deb46",
   "metadata": {},
   "outputs": [
    {
     "name": "stdout",
     "output_type": "stream",
     "text": [
      "a   -0.929916\n",
      "b    1.485594\n",
      "c   -0.488592\n",
      "d    0.769381\n",
      "e    0.690711\n",
      "dtype: float64\n"
     ]
    }
   ],
   "source": [
    "import pandas as pd\n",
    "import numpy as np\n",
    "import matplotlib.pyplot as plt\n",
    "s = pd.Series(np.random.randn(5), index=['a', 'b', 'c', 'd', 'e'])\n",
    "print(s)"
   ]
  },
  {
   "cell_type": "markdown",
   "id": "02435120-e3a3-4810-83e6-fce7803dfa53",
   "metadata": {},
   "source": [
    "## Accessing Index of a Pandas Series\n",
    "\n",
    "- `s.index` returns the **index labels** of the Pandas Series `s`.\n",
    "- Indexes are like \"labels\" for each value in the Series (e.g., 'a', 'b', 'c', etc.).\n",
    "- It also shows the **data type** of the index values — in this case: `dtype='object'`, meaning they're strings.\n",
    "\n",
    "### Note:\n",
    "\n",
    "- Indexes can be numbers, strings, dates, or any hashable type.\n",
    "- You can access individual elements using their index like s['a']."
   ]
  },
  {
   "cell_type": "code",
   "execution_count": 35,
   "id": "6113383c-ff72-45e9-863b-28bad4f7c54e",
   "metadata": {},
   "outputs": [
    {
     "data": {
      "text/plain": [
       "Index(['a', 'b', 'c', 'd', 'e'], dtype='object')"
      ]
     },
     "execution_count": 35,
     "metadata": {},
     "output_type": "execute_result"
    }
   ],
   "source": [
    "s.index"
   ]
  },
  {
   "cell_type": "markdown",
   "id": "d0d9d808-65a3-42ab-9329-66bad6c4fec6",
   "metadata": {},
   "source": [
    "## Creating a Pandas Series Without Custom Index\n",
    "\n",
    "- When we use `pd.Series(np.random.randn(5))` **without providing custom index labels**, \n",
    "  Pandas automatically assigns **default integer indexes**.\n",
    "- These indexes start from `0` and go up to `n-1` (in this case, 4).\n",
    "\n",
    "### Note:\n",
    "- **Index values** are important in Pandas as they help you **label, access, and manipulate** data.\n",
    "- You can still access values by position using `s_default[0]`, `s_default[1]`, etc."
   ]
  },
  {
   "cell_type": "code",
   "execution_count": 36,
   "id": "a33074ce-18e7-4b58-ab08-4d3c3080dca3",
   "metadata": {},
   "outputs": [
    {
     "data": {
      "text/plain": [
       "0    0.705552\n",
       "1    1.295424\n",
       "2    1.578525\n",
       "3    1.571161\n",
       "4    0.491149\n",
       "dtype: float64"
      ]
     },
     "execution_count": 36,
     "metadata": {},
     "output_type": "execute_result"
    }
   ],
   "source": [
    "pd.Series(np.random.randn(5))"
   ]
  },
  {
   "cell_type": "markdown",
   "id": "7d967298-af4f-419c-bccb-c21c6bb8e5fc",
   "metadata": {},
   "source": [
    "## Creating a Pandas Series from a Python Dictionary\n",
    "\n",
    "- We are using a **Python dictionary** to create a Pandas Series.\n",
    "- The dictionary contains keys `'a'`, `'b'`, `'c'` with corresponding float values `0.0`, `1.0`, and `2.0`.\n",
    "- When we pass the dictionary to `pd.Series()`:\n",
    "  - The **keys** become the **index labels** of the Series.\n",
    "  - The **values** become the **data** in the Series.\n",
    "- If no specific index is given, Pandas automatically uses the keys in their **original order** (Python 3.7+ preserves insertion order)."
   ]
  },
  {
   "cell_type": "code",
   "execution_count": 37,
   "id": "9c73427b-a193-4a08-9d2f-e6ad1e3baa30",
   "metadata": {},
   "outputs": [
    {
     "data": {
      "text/plain": [
       "a    0.0\n",
       "b    1.0\n",
       "c    2.0\n",
       "dtype: float64"
      ]
     },
     "execution_count": 37,
     "metadata": {},
     "output_type": "execute_result"
    }
   ],
   "source": [
    "d = {'a' : 0., 'b' : 1., 'c' : 2.} \n",
    "pd.Series(d)"
   ]
  },
  {
   "cell_type": "markdown",
   "id": "ca19af61-d880-4463-99fb-e70b3bde9519",
   "metadata": {},
   "source": [
    "## Custom Indexing When Creating a Series from a Dictionary\n",
    "\n",
    "- We are creating a Pandas Series from a Python dictionary.\n",
    "- While doing so, we explicitly provide a **custom list of indexes**: `['b', 'c', 'd', 'a']`\n",
    "- The dictionary `d = {'a': 0.0, 'b': 1.0, 'c': 2.0}` has 3 keys: `'a'`, `'b'`, and `'c'`.\n",
    "- When we pass a custom index to `pd.Series()`, Pandas **pulls values** from the dictionary **that match the provided index labels**.\n",
    "- If a label in the index (like `'d'`) does **not exist** in the dictionary, Pandas assigns **NaN** (Not a Number) to it.\n",
    "- \n",
    "### Note:\n",
    "- `NaN` indicates missing data — useful for identifying gaps in data when merging or importing.\n",
    "- The order of the index in the resulting Series follows exactly what we specify, not the original dictionary order.\n",
    "\n",
    "📌 This is useful when you want to **reorder**, **subset**, or **align data** using a predefined index structure."
   ]
  },
  {
   "cell_type": "code",
   "execution_count": 38,
   "id": "e30c455c-7bd8-4ac3-b284-e4f49d6c9fdd",
   "metadata": {},
   "outputs": [
    {
     "data": {
      "text/plain": [
       "b    1.0\n",
       "c    2.0\n",
       "d    NaN\n",
       "a    0.0\n",
       "dtype: float64"
      ]
     },
     "execution_count": 38,
     "metadata": {},
     "output_type": "execute_result"
    }
   ],
   "source": [
    "pd.Series(d, index=['b', 'c', 'd', 'a'])"
   ]
  },
  {
   "cell_type": "markdown",
   "id": "5708981f-93aa-4650-af80-a784e797c2d7",
   "metadata": {},
   "source": [
    "## Creating a Pandas Series with a Scalar Value\n",
    "\n",
    " We are creating a Pandas Series using a **single scalar value** (in this case: `5.0`) and a custom list of index labels: `['a', 'b', 'c', 'd', 'e']`.\n",
    "\n",
    "- Since only **one scalar value** is provided and the index has **multiple labels**, Pandas automatically **broadcasts (repeats)** the scalar value for each index.\n",
    "- Every index in the list receives the **same value**.\n",
    "\n",
    "### Note:\n",
    "\n",
    "- This is a quick way to create a uniform Series where every value is the same.\n",
    "- Useful in scenarios like initializing default scores, marks, or constant settings across labeled entries.\n",
    "\n",
    "📌 **Tip:** You can later update specific values in the Series by using their index label, e.g. `s['b'] = 10`"
   ]
  },
  {
   "cell_type": "code",
   "execution_count": 39,
   "id": "7122f15a-a839-4dc5-bf13-08191ae5c97d",
   "metadata": {},
   "outputs": [
    {
     "data": {
      "text/plain": [
       "a    5.0\n",
       "b    5.0\n",
       "c    5.0\n",
       "d    5.0\n",
       "e    5.0\n",
       "dtype: float64"
      ]
     },
     "execution_count": 39,
     "metadata": {},
     "output_type": "execute_result"
    }
   ],
   "source": [
    "pd.Series(5., index=['a', 'b', 'c', 'd', 'e'])"
   ]
  },
  {
   "cell_type": "markdown",
   "id": "00d7cd0f-cc00-482e-b9f4-6dd2b2466be9",
   "metadata": {},
   "source": [
    "## Accessing Values in a Pandas Series\n",
    "\n",
    "- We are accessing a **single value** from a Pandas Series using its **positional index** — just like we do in NumPy arrays.\n",
    "- `s[0]` returns the **first value** in the Series.\n",
    "(This assumes the Series `s` was created using a scalar value `5.0` for all indexes.)\n",
    "\n",
    "### Note:\n",
    "\n",
    "- **`s[0]`** accesses the **first element by position** (not by label).\n",
    "- You can also use the **label** like `s['a']` to access the same element.\n",
    "- This makes Pandas Series powerful — it supports both **label-based** and **position-based** access.\n",
    "\n",
    "📌 Useful when working with numerical data or quickly referencing elements by index.\n",
    "\n",
    "## FutureWarning in Pandas: Series Indexing with `s[0]`\n",
    "- Warning Message Means:\n",
    "- Currently, when you write `s[0]`, Pandas **treats 0 as a position** (first element).\n",
    "- But in the **future**, `s[0]` will mean: \"give me the value at index label `0`\", **not** the first position.\n",
    "\n",
    "### Solution:\n",
    "\n",
    "| Operation             | Use This Now         | Why                            |\n",
    "|----------------------|----------------------|---------------------------------|\n",
    "| Access by position   | `s.iloc[0]`          | Safe and correct way to get first value |\n",
    "| Access by label `'a'`| `s.loc['a']`         | Recommended for label-based access  |\n",
    "\n",
    "\n",
    "### Correct usage\n",
    "\n",
    "s.iloc[0]     # Returns: 10 (by position)\n",
    "\n",
    "s.loc['a']    # Returns: 10 (by label)"
   ]
  },
  {
   "cell_type": "code",
   "execution_count": 40,
   "id": "95d94f15-9204-4799-9186-81c900c2942d",
   "metadata": {},
   "outputs": [
    {
     "name": "stderr",
     "output_type": "stream",
     "text": [
      "C:\\Users\\hp\\AppData\\Local\\Temp\\ipykernel_2040\\243613605.py:1: FutureWarning: Series.__getitem__ treating keys as positions is deprecated. In a future version, integer keys will always be treated as labels (consistent with DataFrame behavior). To access a value by position, use `ser.iloc[pos]`\n",
      "  s[0]\n"
     ]
    },
    {
     "data": {
      "text/plain": [
       "np.float64(-0.9299157747152657)"
      ]
     },
     "execution_count": 40,
     "metadata": {},
     "output_type": "execute_result"
    }
   ],
   "source": [
    "s[0]"
   ]
  },
  {
   "cell_type": "markdown",
   "id": "2b1787ac-51b2-43f8-8019-03bfb095b068",
   "metadata": {},
   "source": [
    "## Slicing a Pandas Series using `s[:5]`\n",
    "\n",
    "We are slicing the Series `s` to access the **first 5 elements** using the syntax `s[:5]`.\n",
    "\n",
    "- This is **position-based slicing**.\n",
    "- The slice `[:5]` means: start from index **position 0** up to (but not including) position **5**.\n",
    "- It behaves just like Python lists or NumPy arrays.\n",
    "\n",
    "### Note:\n",
    "\n",
    "- Slicing always returns a **new Series** with the selected portion.\n",
    "- This is **not label-based**, it is **position-based** slicing.\n",
    "- No warning appears because slicing is safely interpreted by position.\n",
    "\n",
    "📌 Use `.iloc[:5]` if you want to be explicit and warning-free for position-based slicing."
   ]
  },
  {
   "cell_type": "code",
   "execution_count": 41,
   "id": "da44122d-5adf-437e-a356-e97dd97817f5",
   "metadata": {},
   "outputs": [
    {
     "data": {
      "text/plain": [
       "a   -0.929916\n",
       "b    1.485594\n",
       "c   -0.488592\n",
       "d    0.769381\n",
       "e    0.690711\n",
       "dtype: float64"
      ]
     },
     "execution_count": 41,
     "metadata": {},
     "output_type": "execute_result"
    }
   ],
   "source": [
    "s[:5]"
   ]
  },
  {
   "cell_type": "markdown",
   "id": "235a93d0-9f18-4570-a523-9cda098b849e",
   "metadata": {},
   "source": [
    "## Filtering a Series Using Median with Boolean Indexing\n",
    "\n",
    "We are using **Boolean indexing** to select only those elements in the Series `s` that are **greater than the median** of the Series.\n",
    "\n",
    "- `s.median()` calculates the **median** value of the Series `s`.\n",
    "- `s > s.median()` creates a **Boolean Series** where each value is either `True` or `False` depending on the condition.\n",
    "- `s[condition]` filters and returns only the values where the condition is `True`.\n",
    "\n",
    "### Note:\n",
    "\n",
    "- Helps in data filtering and analysis.\n",
    "- Very powerful when combined with functions like `.mean()`, `.min()`, `.max()`, etc.\n",
    "- Clean and efficient way to **select specific data points** based on a condition."
   ]
  },
  {
   "cell_type": "code",
   "execution_count": 42,
   "id": "946ef9d6-d031-45d6-8e0c-d7d9f58499e7",
   "metadata": {},
   "outputs": [
    {
     "data": {
      "text/plain": [
       "b    1.485594\n",
       "d    0.769381\n",
       "dtype: float64"
      ]
     },
     "execution_count": 42,
     "metadata": {},
     "output_type": "execute_result"
    }
   ],
   "source": [
    "s[s > s.median()]"
   ]
  },
  {
   "cell_type": "markdown",
   "id": "252e7bb7-cd8e-45ca-b9a8-86f2cee344de",
   "metadata": {},
   "source": [
    "## Fancy Indexing in Pandas Series Using a List of Positions\n",
    "\n",
    "We are accessing multiple **specific elements** from the Series `s` using a list of **positions**.\n",
    "- Syntax: `s[[4, 3, 1]]`\n",
    "- This is called **fancy indexing**.\n",
    "- The list `[4, 3, 1]` contains the **positions** of the elements we want to extract from the Series.\n",
    "- Pandas will return a **new Series** containing only these elements in the **specified order**.\n",
    "\n",
    "### Note:\n",
    "\n",
    "- This is position-based, not label-based access.\n",
    "- The order of output matches the order of positions in the list.\n",
    "- Useful when you need to extract non-continuous values or rearrange Series elements."
   ]
  },
  {
   "cell_type": "code",
   "execution_count": 44,
   "id": "cf568cac-29e2-4880-8c4c-f2fdbfdb0ff1",
   "metadata": {},
   "outputs": [
    {
     "data": {
      "text/plain": [
       "e    0.690711\n",
       "d    0.769381\n",
       "b    1.485594\n",
       "dtype: float64"
      ]
     },
     "execution_count": 44,
     "metadata": {},
     "output_type": "execute_result"
    }
   ],
   "source": [
    "s.iloc[[4, 3, 1]]"
   ]
  },
  {
   "cell_type": "markdown",
   "id": "e63b2105-4f4e-4f85-9e8f-4e50fe01cf91",
   "metadata": {},
   "source": [
    "## Applying NumPy's `exp()` Function to a Pandas Series\n",
    "\n",
    "- We are applying the `np.exp()` function (from NumPy) to a Pandas Series `s`.\n",
    "- `np.exp(x)` computes the **exponential value** of each element:  \n",
    "  \\[ \\exp(x) = e^x \\]  \n",
    "  where `e ≈ 2.718`\n",
    "- Since Pandas Series is **NumPy-compatible**, the `np.exp()` function applies **element-wise**.\n",
    "- It returns a **new Series** where each element is replaced by its exponential value.\n",
    "\n",
    "### Note:\n",
    "\n",
    "- NumPy functions like `np.exp`, `np.sqrt`, `np.log`, etc., work **seamlessly** with Pandas.\n",
    "- This makes Pandas very useful for **vectorized mathematical operations**.\n",
    "\n",
    "📌 You can chain or combine this with filters, e.g.:\n",
    "```python\n",
    "np.exp(s[s > 0])"
   ]
  },
  {
   "cell_type": "code",
   "execution_count": 45,
   "id": "39b78174-f047-4d1f-8acb-5ddab22c1455",
   "metadata": {},
   "outputs": [
    {
     "data": {
      "text/plain": [
       "a    0.394587\n",
       "b    4.417587\n",
       "c    0.613489\n",
       "d    2.158430\n",
       "e    1.995135\n",
       "dtype: float64"
      ]
     },
     "execution_count": 45,
     "metadata": {},
     "output_type": "execute_result"
    }
   ],
   "source": [
    "np.exp(s)"
   ]
  },
  {
   "cell_type": "markdown",
   "id": "9d1ed25c-05bc-485e-821a-9d6133897e73",
   "metadata": {},
   "source": [
    "## Accessing a Value in Pandas Series Using a Label: `s['a']`\n",
    "\n",
    "- We are retrieving a value from the Series `s` using a **label** — in this case, `'a'`.\n",
    "- This is called **label-based access**, similar to accessing a dictionary value by key.\n",
    "- Each Series has an **index (label)** attached to its values.\n",
    "- Writing `s['a']` returns the value **associated with label `'a'`**.\n",
    "\n",
    "### Note:\n",
    "\n",
    "- This is not position-based (not the same as s[0]).\n",
    "- Label-based access is safe, clear, and recommended.\n",
    "- No warning is shown (unlike ambiguous integer access).\n",
    "\n",
    "📌 If label 'a' does not exist, Pandas will raise a KeyError."
   ]
  },
  {
   "cell_type": "code",
   "execution_count": 46,
   "id": "493733ce-11ed-4fe1-8833-cab59d4f2dd7",
   "metadata": {},
   "outputs": [
    {
     "data": {
      "text/plain": [
       "np.float64(-0.9299157747152657)"
      ]
     },
     "execution_count": 46,
     "metadata": {},
     "output_type": "execute_result"
    }
   ],
   "source": [
    "s['a']"
   ]
  },
  {
   "cell_type": "markdown",
   "id": "5f928536-8d0d-49df-857a-05b4147bf99f",
   "metadata": {},
   "source": [
    "## Updating a Value in Pandas Series Using a Label: `s['e'] = 12.`\n",
    "\n",
    "We are updating the **value at index label `'e'`** in the Series `s` and assigning it a new value: `12.0`.\n",
    "\n",
    "- `s['e'] = 12.` directly **modifies** the value at label `'e'`.\n",
    "- This works similar to updating a dictionary in Python.\n",
    "- The Series remains the same object — only the value is updated.\n",
    "\n",
    "### Note:\n",
    "\n",
    "- This is label-based assignment — very intuitive and powerful.\n",
    "- You can also use this method to:\n",
    " - Update multiple values using a loop or condition.\n",
    " - Add a new label (if it doesn’t already exist).\n",
    "- It’s a fast and clean way to modify data in-place.\n",
    "\n",
    "📌 Use .loc['e'] = 12. for the same effect — .loc is the preferred and explicit method for label-based assignment."
   ]
  },
  {
   "cell_type": "code",
   "execution_count": 47,
   "id": "1c430b80-1c71-4c0f-9b21-1a743abc58d1",
   "metadata": {},
   "outputs": [
    {
     "data": {
      "text/plain": [
       "a    -0.929916\n",
       "b     1.485594\n",
       "c    -0.488592\n",
       "d     0.769381\n",
       "e    12.000000\n",
       "dtype: float64"
      ]
     },
     "execution_count": 47,
     "metadata": {},
     "output_type": "execute_result"
    }
   ],
   "source": [
    "s['e'] = 12.\n",
    "s "
   ]
  },
  {
   "cell_type": "markdown",
   "id": "205bacee-b935-4f7d-96f8-529ccc574bef",
   "metadata": {},
   "source": [
    "## Checking If a Label Exists in a Pandas Series: `'e' in s`\n",
    "\n",
    "- We are checking whether the label `'e'` exists in the **index** of the Series `s`.\n",
    "- This returns a **Boolean value**: `True` or `False`.\n",
    "- In Pandas, `s` (a Series) behaves like a dictionary.\n",
    "- So `'e' in s` checks if `'e'` is one of the **keys (index labels)** in the Series.\n",
    "- If it is, it returns `True`; otherwise, it returns `False`.\n",
    "\n",
    "### Note:\n",
    "\n",
    "- This only checks the index (labels), not the values.\n",
    "- Useful in conditional statements or before accessing a label to avoid KeyError."
   ]
  },
  {
   "cell_type": "code",
   "execution_count": 48,
   "id": "25397eae-ad9b-4135-89ef-c71bb823babf",
   "metadata": {},
   "outputs": [
    {
     "data": {
      "text/plain": [
       "True"
      ]
     },
     "execution_count": 48,
     "metadata": {},
     "output_type": "execute_result"
    }
   ],
   "source": [
    "'e' in s"
   ]
  },
  {
   "cell_type": "code",
   "execution_count": 49,
   "id": "769784ac-e4db-4597-a4a5-b7a115fe6324",
   "metadata": {},
   "outputs": [
    {
     "data": {
      "text/plain": [
       "False"
      ]
     },
     "execution_count": 49,
     "metadata": {},
     "output_type": "execute_result"
    }
   ],
   "source": [
    "'z' in s"
   ]
  },
  {
   "cell_type": "markdown",
   "id": "9783c358-b8e7-4e59-b696-b5128abbff56",
   "metadata": {},
   "source": [
    "## Accessing a Non-Existent Label in Pandas Series: `s['f']`\n",
    "\n",
    "We are trying to access the value at label `'f'` in the Series `s` using `s['f']`.\n",
    "\n",
    "- If `'f'` **does not exist** in the index of Series `s`, Pandas raises a `KeyError`.\n",
    " \n",
    "### Error Trace:\n",
    "```python\n",
    "KeyError: 'f'\n",
    "\n",
    "-This error means that the label 'f' is not found in the index of the Series.\n",
    "- Pandas Series works like a dictionary.\n",
    "- If you try to access a key (index label) that isn’t defined, you get a KeyError."
   ]
  },
  {
   "cell_type": "code",
   "execution_count": 50,
   "id": "a5bcf72d-4fe9-4ba3-a465-d8d424756a58",
   "metadata": {},
   "outputs": [
    {
     "ename": "KeyError",
     "evalue": "'f'",
     "output_type": "error",
     "traceback": [
      "\u001b[1;31m---------------------------------------------------------------------------\u001b[0m",
      "\u001b[1;31mKeyError\u001b[0m                                  Traceback (most recent call last)",
      "File \u001b[1;32m~\\anaconda3\\Lib\\site-packages\\pandas\\core\\indexes\\base.py:3805\u001b[0m, in \u001b[0;36mIndex.get_loc\u001b[1;34m(self, key)\u001b[0m\n\u001b[0;32m   3804\u001b[0m \u001b[38;5;28;01mtry\u001b[39;00m:\n\u001b[1;32m-> 3805\u001b[0m     \u001b[38;5;28;01mreturn\u001b[39;00m \u001b[38;5;28mself\u001b[39m\u001b[38;5;241m.\u001b[39m_engine\u001b[38;5;241m.\u001b[39mget_loc(casted_key)\n\u001b[0;32m   3806\u001b[0m \u001b[38;5;28;01mexcept\u001b[39;00m \u001b[38;5;167;01mKeyError\u001b[39;00m \u001b[38;5;28;01mas\u001b[39;00m err:\n",
      "File \u001b[1;32mindex.pyx:167\u001b[0m, in \u001b[0;36mpandas._libs.index.IndexEngine.get_loc\u001b[1;34m()\u001b[0m\n",
      "File \u001b[1;32mindex.pyx:196\u001b[0m, in \u001b[0;36mpandas._libs.index.IndexEngine.get_loc\u001b[1;34m()\u001b[0m\n",
      "File \u001b[1;32mpandas\\\\_libs\\\\hashtable_class_helper.pxi:7081\u001b[0m, in \u001b[0;36mpandas._libs.hashtable.PyObjectHashTable.get_item\u001b[1;34m()\u001b[0m\n",
      "File \u001b[1;32mpandas\\\\_libs\\\\hashtable_class_helper.pxi:7089\u001b[0m, in \u001b[0;36mpandas._libs.hashtable.PyObjectHashTable.get_item\u001b[1;34m()\u001b[0m\n",
      "\u001b[1;31mKeyError\u001b[0m: 'f'",
      "\nThe above exception was the direct cause of the following exception:\n",
      "\u001b[1;31mKeyError\u001b[0m                                  Traceback (most recent call last)",
      "Cell \u001b[1;32mIn[50], line 1\u001b[0m\n\u001b[1;32m----> 1\u001b[0m s[\u001b[38;5;124m'\u001b[39m\u001b[38;5;124mf\u001b[39m\u001b[38;5;124m'\u001b[39m]\n",
      "File \u001b[1;32m~\\anaconda3\\Lib\\site-packages\\pandas\\core\\series.py:1121\u001b[0m, in \u001b[0;36mSeries.__getitem__\u001b[1;34m(self, key)\u001b[0m\n\u001b[0;32m   1118\u001b[0m     \u001b[38;5;28;01mreturn\u001b[39;00m \u001b[38;5;28mself\u001b[39m\u001b[38;5;241m.\u001b[39m_values[key]\n\u001b[0;32m   1120\u001b[0m \u001b[38;5;28;01melif\u001b[39;00m key_is_scalar:\n\u001b[1;32m-> 1121\u001b[0m     \u001b[38;5;28;01mreturn\u001b[39;00m \u001b[38;5;28mself\u001b[39m\u001b[38;5;241m.\u001b[39m_get_value(key)\n\u001b[0;32m   1123\u001b[0m \u001b[38;5;66;03m# Convert generator to list before going through hashable part\u001b[39;00m\n\u001b[0;32m   1124\u001b[0m \u001b[38;5;66;03m# (We will iterate through the generator there to check for slices)\u001b[39;00m\n\u001b[0;32m   1125\u001b[0m \u001b[38;5;28;01mif\u001b[39;00m is_iterator(key):\n",
      "File \u001b[1;32m~\\anaconda3\\Lib\\site-packages\\pandas\\core\\series.py:1237\u001b[0m, in \u001b[0;36mSeries._get_value\u001b[1;34m(self, label, takeable)\u001b[0m\n\u001b[0;32m   1234\u001b[0m     \u001b[38;5;28;01mreturn\u001b[39;00m \u001b[38;5;28mself\u001b[39m\u001b[38;5;241m.\u001b[39m_values[label]\n\u001b[0;32m   1236\u001b[0m \u001b[38;5;66;03m# Similar to Index.get_value, but we do not fall back to positional\u001b[39;00m\n\u001b[1;32m-> 1237\u001b[0m loc \u001b[38;5;241m=\u001b[39m \u001b[38;5;28mself\u001b[39m\u001b[38;5;241m.\u001b[39mindex\u001b[38;5;241m.\u001b[39mget_loc(label)\n\u001b[0;32m   1239\u001b[0m \u001b[38;5;28;01mif\u001b[39;00m is_integer(loc):\n\u001b[0;32m   1240\u001b[0m     \u001b[38;5;28;01mreturn\u001b[39;00m \u001b[38;5;28mself\u001b[39m\u001b[38;5;241m.\u001b[39m_values[loc]\n",
      "File \u001b[1;32m~\\anaconda3\\Lib\\site-packages\\pandas\\core\\indexes\\base.py:3812\u001b[0m, in \u001b[0;36mIndex.get_loc\u001b[1;34m(self, key)\u001b[0m\n\u001b[0;32m   3807\u001b[0m     \u001b[38;5;28;01mif\u001b[39;00m \u001b[38;5;28misinstance\u001b[39m(casted_key, \u001b[38;5;28mslice\u001b[39m) \u001b[38;5;129;01mor\u001b[39;00m (\n\u001b[0;32m   3808\u001b[0m         \u001b[38;5;28misinstance\u001b[39m(casted_key, abc\u001b[38;5;241m.\u001b[39mIterable)\n\u001b[0;32m   3809\u001b[0m         \u001b[38;5;129;01mand\u001b[39;00m \u001b[38;5;28many\u001b[39m(\u001b[38;5;28misinstance\u001b[39m(x, \u001b[38;5;28mslice\u001b[39m) \u001b[38;5;28;01mfor\u001b[39;00m x \u001b[38;5;129;01min\u001b[39;00m casted_key)\n\u001b[0;32m   3810\u001b[0m     ):\n\u001b[0;32m   3811\u001b[0m         \u001b[38;5;28;01mraise\u001b[39;00m InvalidIndexError(key)\n\u001b[1;32m-> 3812\u001b[0m     \u001b[38;5;28;01mraise\u001b[39;00m \u001b[38;5;167;01mKeyError\u001b[39;00m(key) \u001b[38;5;28;01mfrom\u001b[39;00m\u001b[38;5;250m \u001b[39m\u001b[38;5;21;01merr\u001b[39;00m\n\u001b[0;32m   3813\u001b[0m \u001b[38;5;28;01mexcept\u001b[39;00m \u001b[38;5;167;01mTypeError\u001b[39;00m:\n\u001b[0;32m   3814\u001b[0m     \u001b[38;5;66;03m# If we have a listlike key, _check_indexing_error will raise\u001b[39;00m\n\u001b[0;32m   3815\u001b[0m     \u001b[38;5;66;03m#  InvalidIndexError. Otherwise we fall through and re-raise\u001b[39;00m\n\u001b[0;32m   3816\u001b[0m     \u001b[38;5;66;03m#  the TypeError.\u001b[39;00m\n\u001b[0;32m   3817\u001b[0m     \u001b[38;5;28mself\u001b[39m\u001b[38;5;241m.\u001b[39m_check_indexing_error(key)\n",
      "\u001b[1;31mKeyError\u001b[0m: 'f'"
     ]
    }
   ],
   "source": [
    "s['f']"
   ]
  },
  {
   "cell_type": "markdown",
   "id": "d0bb48f7-9f95-4a42-b9c1-591185057b76",
   "metadata": {},
   "source": [
    "## Safe Access in Pandas Series Using `.get()`\n",
    "\n",
    "We are using `s.get()` to **safely access** the value of a label in a Pandas Series.\n",
    "\n",
    "### Use `.get()`:\n",
    "\n",
    "- Unlike s['f'], which raises a KeyError if 'f' is not found,\n",
    "- .get('f') quietly returns None or any custom default value you provide.\n",
    "- \n",
    "### Examples:\n",
    "\n",
    "```python\n",
    "s.get('f')          # ➝ Returns None if 'f' is not in the index\n",
    "s.get('f', np.nan)  # ➝ Returns np.nan (default value) if 'f' is missing\n",
    "\n"
   ]
  },
  {
   "cell_type": "code",
   "execution_count": 51,
   "id": "6783b9b3-af0e-4a67-998b-e6429960639a",
   "metadata": {},
   "outputs": [
    {
     "data": {
      "text/plain": [
       "nan"
      ]
     },
     "execution_count": 51,
     "metadata": {},
     "output_type": "execute_result"
    }
   ],
   "source": [
    "s.get('f') \n",
    "s.get('f', np.nan)"
   ]
  },
  {
   "cell_type": "markdown",
   "id": "e1a58def-f3b5-4415-bfd7-0030a50574d8",
   "metadata": {},
   "source": [
    "## Element-wise Addition of a Pandas Series with Itself: `s + s`\n",
    "\n",
    "In this example we are adding the Series `s` to itself: s + s\n",
    "\n",
    "- Each element in the Series is added to its corresponding element with the same label:\n",
    "- `a = s['a'] + s['a']`\n",
    "- `b = s['b'] + s['b']`\n",
    "\n",
    "- Suppose the original Series is:\n",
    "`s =` \n",
    "`a    2.0`  `b    3.0` \n",
    "\n",
    "- then: `a     4.0  # 2.0 + 2.0` `b     6.0  # 3.0 + 3.0`\n",
    "\n",
    "### Note:\n",
    "\n",
    "- Operation is done label-wise, not position-wise.\n",
    "- Fast and efficient — takes advantage of Pandas’ vectorized operations.\n",
    "- If a label is missing in either Series, the result will be NaN for that label."
   ]
  },
  {
   "cell_type": "code",
   "execution_count": 53,
   "id": "0b993a87-451a-4a5e-88d4-d1329aab08a2",
   "metadata": {},
   "outputs": [
    {
     "data": {
      "text/plain": [
       "a    -1.859832\n",
       "b     2.971187\n",
       "c    -0.977185\n",
       "d     1.538762\n",
       "e    24.000000\n",
       "dtype: float64"
      ]
     },
     "execution_count": 53,
     "metadata": {},
     "output_type": "execute_result"
    }
   ],
   "source": [
    "a = s['a'] +s['a'] \n",
    "b = s['b'] +s['b'] \n",
    "c = s['c'] +s['c']\n",
    "d = s['d'] +s['d']\n",
    "e = s['e'] +s['e']\n",
    "s + s"
   ]
  },
  {
   "cell_type": "markdown",
   "id": "ae2f6548-d7ce-4fa6-b281-698588948c3e",
   "metadata": {},
   "source": [
    "## Multiplying a Pandas Series by a Scalar (`s * 2`)\n",
    "\n",
    "In this example we are multiplying each element in the Series `s` by **2** using:s * 2\n",
    "\n",
    "- Each value in the Series is multiplied by 2:\n",
    "`a = s['a'] * 2` `b = s['b'] * 2`\n",
    "\n",
    "### Note:\n",
    "\n",
    "- This is a scalar operation in Pandas — applies to all values.\n",
    "- It's part of Pandas' vectorized computation, so it runs efficiently."
   ]
  },
  {
   "cell_type": "code",
   "execution_count": 54,
   "id": "fe2e0b3e-336b-463a-9d27-02b28771aed8",
   "metadata": {},
   "outputs": [
    {
     "data": {
      "text/plain": [
       "a    -1.859832\n",
       "b     2.971187\n",
       "c    -0.977185\n",
       "d     1.538762\n",
       "e    24.000000\n",
       "dtype: float64"
      ]
     },
     "execution_count": 54,
     "metadata": {},
     "output_type": "execute_result"
    }
   ],
   "source": [
    "a = s['a'] *2\n",
    "b = s['b'] *2\n",
    "c = s['c'] *2\n",
    "d = s['d'] *2\n",
    "e = s['e'] *2\n",
    "s * 2"
   ]
  },
  {
   "cell_type": "markdown",
   "id": "5ada81a7-51cf-4253-a2e2-7bcd62cd4dd4",
   "metadata": {},
   "source": [
    "## Naming a Pandas Series\n",
    "\n",
    "We are creating a Pandas Series using `pd.Series()` and giving it a custom name using the `name` parameter.\n",
    "\n",
    "- np.random.randn(5) generates `5` random numbers.\n",
    "- `name='Aqsa'` assigns a label/name to the entire Series.\n",
    "- When printed, the `name appears at the bottom` of the Series output.\n",
    "\n",
    "### Note:\n",
    "- Helps in data labeling and readability.\n",
    "- When used in a DataFrame or plotting, this name helps identify the Series.\n",
    "- Useful during merging, plotting, or exporting.\n"
   ]
  },
  {
   "cell_type": "code",
   "execution_count": 56,
   "id": "6d06b60c-5171-4887-b7bd-4029522c72b1",
   "metadata": {},
   "outputs": [
    {
     "data": {
      "text/plain": [
       "0    0.527903\n",
       "1   -1.202904\n",
       "2   -0.591156\n",
       "3    0.160297\n",
       "4    0.205735\n",
       "Name: Aqsa, dtype: float64"
      ]
     },
     "execution_count": 56,
     "metadata": {},
     "output_type": "execute_result"
    }
   ],
   "source": [
    "s = pd.Series(np.random.randn(5), name='Aqsa')\n",
    "s"
   ]
  },
  {
   "cell_type": "markdown",
   "id": "3aedc6ca-94b2-4f89-8cc4-1abd8b6fc43e",
   "metadata": {},
   "source": [
    "## Accessing the Name of a Pandas Series\n",
    "\n",
    "We are retrieving the **name** assigned to the Series `s` using: `s.name`\n",
    "\n",
    "- This line returns the string name that was assigned to the Series when it was created.\n",
    "- Helps track or dynamically check the Series label.\n",
    "- Handy when working with multiple named Series in DataFrames."
   ]
  },
  {
   "cell_type": "code",
   "execution_count": 57,
   "id": "daa7be97-8512-4838-962a-4cf8ea287024",
   "metadata": {},
   "outputs": [
    {
     "data": {
      "text/plain": [
       "'Aqsa'"
      ]
     },
     "execution_count": 57,
     "metadata": {},
     "output_type": "execute_result"
    }
   ],
   "source": [
    "s.name"
   ]
  },
  {
   "cell_type": "markdown",
   "id": "a1d24a4f-35c1-4b87-b419-8cacb0ab4335",
   "metadata": {},
   "source": [
    "## Renaming a Pandas Series\n",
    "\n",
    "We are renaming the Series `s` to a **new name** `\"different\"` using:s2 = s.rename(\"Aqsa Malik)\n",
    "\n",
    "- rename(\"Aqsa Malik\") creates a new Series with the same values as s but with a different name.\n",
    "- The original Series s remains unchanged.\n",
    "- s2.name will now return 'Aqsa Malik'.\n",
    "\n",
    "### Note:\n",
    "- rename() does not modify the original Series.\n",
    "- This is helpful when you want to assign a temporary or more descriptive name during data processing or plotting."
   ]
  },
  {
   "cell_type": "code",
   "execution_count": 58,
   "id": "42825a5b-9477-4ba9-98ed-0828f7eeb5fa",
   "metadata": {},
   "outputs": [
    {
     "data": {
      "text/plain": [
       "'Aqsa Malik'"
      ]
     },
     "execution_count": 58,
     "metadata": {},
     "output_type": "execute_result"
    }
   ],
   "source": [
    "s2 = s.rename(\"Aqsa Malik\")\n",
    "s2.name"
   ]
  },
  {
   "cell_type": "markdown",
   "id": "2da391c7-78c4-4eb0-a2ac-e589a8805603",
   "metadata": {},
   "source": [
    "## Creating a DataFrame from a Dictionary of Series\n",
    "\n",
    "We are creating a **DataFrame** from a dictionary `d` that contains two Pandas Series:\n",
    "\n",
    "- Each key in the dictionary `('one', 'two')` becomes a column label in the DataFrame.\n",
    "- The index for the DataFrame is automatically taken from the union of all Series indices.\n",
    "- If a Series does not have a value for a specific index, it is filled with `NaN`.\n",
    "\n",
    "### Note:\n",
    "\n",
    "- Index d does not exist in Series 'one', so it appears as NaN in that column.\n",
    "- This is a very common and powerful way to build DataFrames from raw data in Python."
   ]
  },
  {
   "cell_type": "code",
   "execution_count": 59,
   "id": "043adf0f-7e2d-4b24-b395-82f64ebacbee",
   "metadata": {},
   "outputs": [
    {
     "data": {
      "text/html": [
       "<div>\n",
       "<style scoped>\n",
       "    .dataframe tbody tr th:only-of-type {\n",
       "        vertical-align: middle;\n",
       "    }\n",
       "\n",
       "    .dataframe tbody tr th {\n",
       "        vertical-align: top;\n",
       "    }\n",
       "\n",
       "    .dataframe thead th {\n",
       "        text-align: right;\n",
       "    }\n",
       "</style>\n",
       "<table border=\"1\" class=\"dataframe\">\n",
       "  <thead>\n",
       "    <tr style=\"text-align: right;\">\n",
       "      <th></th>\n",
       "      <th>one</th>\n",
       "      <th>two</th>\n",
       "    </tr>\n",
       "  </thead>\n",
       "  <tbody>\n",
       "    <tr>\n",
       "      <th>a</th>\n",
       "      <td>1.0</td>\n",
       "      <td>1.0</td>\n",
       "    </tr>\n",
       "    <tr>\n",
       "      <th>b</th>\n",
       "      <td>2.0</td>\n",
       "      <td>2.0</td>\n",
       "    </tr>\n",
       "    <tr>\n",
       "      <th>c</th>\n",
       "      <td>3.0</td>\n",
       "      <td>3.0</td>\n",
       "    </tr>\n",
       "    <tr>\n",
       "      <th>d</th>\n",
       "      <td>NaN</td>\n",
       "      <td>4.0</td>\n",
       "    </tr>\n",
       "  </tbody>\n",
       "</table>\n",
       "</div>"
      ],
      "text/plain": [
       "   one  two\n",
       "a  1.0  1.0\n",
       "b  2.0  2.0\n",
       "c  3.0  3.0\n",
       "d  NaN  4.0"
      ]
     },
     "execution_count": 59,
     "metadata": {},
     "output_type": "execute_result"
    }
   ],
   "source": [
    "d = {\n",
    "'one' : pd.Series([1., 2., 3.], index=['a', 'b', 'c']),\n",
    "'two' : pd.Series([1., 2., 3., 4.], index=['a', 'b', 'c', 'd'])\n",
    "}\n",
    "df=pd.DataFrame(d)\n",
    "df"
   ]
  },
  {
   "cell_type": "markdown",
   "id": "dab4c20c-e35a-4dd4-89d8-588fb8585dcd",
   "metadata": {},
   "source": [
    "## Creating a DataFrame with Custom Row Order\n",
    "\n",
    "We are passing a dictionary of Series to `pd.DataFrame()` and also providing a **custom row index**: \n",
    "`pd.DataFrame(d, index=['d', 'b', 'a'])`\n",
    "\n",
    "- d is a dictionary where keys are column labels `('one' and 'two')`.\n",
    "- The index parameter defines the row labels and their order.\n",
    "- Pandas will reorder the rows based on the given index.\n",
    "- If any value is missing for the specified index, it will show as NaN.\n",
    "\n",
    "#### Note:\n",
    "- The row order is now d, b, a instead of the default `a, b, c, d`.\n",
    "- Row 'd' has no value in column 'one', so it appears as `NaN`."
   ]
  },
  {
   "cell_type": "code",
   "execution_count": 60,
   "id": "86289b75-6d7e-484d-b405-71db9a839d02",
   "metadata": {},
   "outputs": [
    {
     "data": {
      "text/html": [
       "<div>\n",
       "<style scoped>\n",
       "    .dataframe tbody tr th:only-of-type {\n",
       "        vertical-align: middle;\n",
       "    }\n",
       "\n",
       "    .dataframe tbody tr th {\n",
       "        vertical-align: top;\n",
       "    }\n",
       "\n",
       "    .dataframe thead th {\n",
       "        text-align: right;\n",
       "    }\n",
       "</style>\n",
       "<table border=\"1\" class=\"dataframe\">\n",
       "  <thead>\n",
       "    <tr style=\"text-align: right;\">\n",
       "      <th></th>\n",
       "      <th>one</th>\n",
       "      <th>two</th>\n",
       "    </tr>\n",
       "  </thead>\n",
       "  <tbody>\n",
       "    <tr>\n",
       "      <th>d</th>\n",
       "      <td>NaN</td>\n",
       "      <td>4.0</td>\n",
       "    </tr>\n",
       "    <tr>\n",
       "      <th>b</th>\n",
       "      <td>2.0</td>\n",
       "      <td>2.0</td>\n",
       "    </tr>\n",
       "    <tr>\n",
       "      <th>a</th>\n",
       "      <td>1.0</td>\n",
       "      <td>1.0</td>\n",
       "    </tr>\n",
       "  </tbody>\n",
       "</table>\n",
       "</div>"
      ],
      "text/plain": [
       "   one  two\n",
       "d  NaN  4.0\n",
       "b  2.0  2.0\n",
       "a  1.0  1.0"
      ]
     },
     "execution_count": 60,
     "metadata": {},
     "output_type": "execute_result"
    }
   ],
   "source": [
    "pd.DataFrame(d, index=['d', 'b', 'a'])"
   ]
  },
  {
   "cell_type": "markdown",
   "id": "6a1a81d0-525c-49d1-a9f5-1e1943c42884",
   "metadata": {},
   "source": [
    "## Creating a DataFrame with Custom Rows and Columns\n",
    "\n",
    "We are building a DataFrame using: `pd.DataFrame(d, index=['d', 'b', 'a'], columns=['two', 'three'])`\n",
    "\n",
    "- d is a dictionary of Series, like:\n",
    "**{\n",
    "    'one': pd.Series(...),\n",
    "    'two': pd.Series(...)\n",
    "}**\n",
    "\n",
    "- We are customizing:\n",
    " `Rows with index=['d', 'b', 'a']` \n",
    " `Columns with columns=['two', 'three']`\n",
    "\n",
    "- Column 'two' exists in the dictionary d, so values are fetched from the corresponding Series.\n",
    "- Column 'three' does not exist, so all values in that column become `NaN`.\n",
    "- Row labels are set to `'d', 'b', and 'a'` — in that order.\n",
    "\n",
    "### Note:\n",
    "- You can use this approach to:\n",
    "- Reorder or select specific rows\n",
    "- Add empty columns for future use or processing"
   ]
  },
  {
   "cell_type": "code",
   "execution_count": 61,
   "id": "20345b37-e0c0-444e-b4f7-bada5c498873",
   "metadata": {},
   "outputs": [
    {
     "data": {
      "text/html": [
       "<div>\n",
       "<style scoped>\n",
       "    .dataframe tbody tr th:only-of-type {\n",
       "        vertical-align: middle;\n",
       "    }\n",
       "\n",
       "    .dataframe tbody tr th {\n",
       "        vertical-align: top;\n",
       "    }\n",
       "\n",
       "    .dataframe thead th {\n",
       "        text-align: right;\n",
       "    }\n",
       "</style>\n",
       "<table border=\"1\" class=\"dataframe\">\n",
       "  <thead>\n",
       "    <tr style=\"text-align: right;\">\n",
       "      <th></th>\n",
       "      <th>two</th>\n",
       "      <th>three</th>\n",
       "    </tr>\n",
       "  </thead>\n",
       "  <tbody>\n",
       "    <tr>\n",
       "      <th>d</th>\n",
       "      <td>4.0</td>\n",
       "      <td>NaN</td>\n",
       "    </tr>\n",
       "    <tr>\n",
       "      <th>b</th>\n",
       "      <td>2.0</td>\n",
       "      <td>NaN</td>\n",
       "    </tr>\n",
       "    <tr>\n",
       "      <th>a</th>\n",
       "      <td>1.0</td>\n",
       "      <td>NaN</td>\n",
       "    </tr>\n",
       "  </tbody>\n",
       "</table>\n",
       "</div>"
      ],
      "text/plain": [
       "   two three\n",
       "d  4.0   NaN\n",
       "b  2.0   NaN\n",
       "a  1.0   NaN"
      ]
     },
     "execution_count": 61,
     "metadata": {},
     "output_type": "execute_result"
    }
   ],
   "source": [
    "pd.DataFrame(d, index=['d', 'b', 'a'], columns=['two', 'three'])"
   ]
  },
  {
   "cell_type": "markdown",
   "id": "2a3d244c-72c9-458d-9840-af4cb5cd29f9",
   "metadata": {},
   "source": [
    "## Accessing DataFrame Column Labels\n",
    "\n",
    "We are retrieving the **column names** of the DataFrame `df` using: `df.columns`\n",
    "\n",
    "- This line returns an Index object containing all column names of the DataFrame.\n",
    "- Helps when you want to:\n",
    "- Check or confirm column labels,Rename columns, Loop through column names"
   ]
  },
  {
   "cell_type": "code",
   "execution_count": 62,
   "id": "734e59ec-98b7-45df-b7ae-5d4c4e5466c4",
   "metadata": {},
   "outputs": [
    {
     "data": {
      "text/plain": [
       "Index(['one', 'two'], dtype='object')"
      ]
     },
     "execution_count": 62,
     "metadata": {},
     "output_type": "execute_result"
    }
   ],
   "source": [
    " df.columns"
   ]
  },
  {
   "cell_type": "markdown",
   "id": "de95da88-2aa8-4a97-8c46-8438cfc1310c",
   "metadata": {},
   "source": [
    "## Creating a DataFrame from a Dictionary of Lists\n",
    "\n",
    "We are creating a DataFrame using a dictionary `d` where:\n",
    "**d = {\n",
    "    'one' : [1., 2., 3., 4.],\n",
    "    'two' : [4., 3., 2., 1.]\n",
    "}**\n",
    "\n",
    "- Each key in the dictionary becomes a column label `('one', 'two')`.\n",
    "- The values are lists, which become the data for each column.\n",
    "- Since we did not provide any row index, Pandas auto-generates default row numbers as `0, 1, 2, 3`.\n",
    "\n",
    "### Note:\n",
    "- Column names: Taken from dictionary keys.\n",
    "- Row index: Auto-generated as integers.\n",
    "- Each list in the dictionary must have the same length, otherwise Pandas will raise an error."
   ]
  },
  {
   "cell_type": "code",
   "execution_count": 63,
   "id": "76094a87-e4f8-45c7-9c77-dde2d94fe04a",
   "metadata": {},
   "outputs": [
    {
     "data": {
      "text/html": [
       "<div>\n",
       "<style scoped>\n",
       "    .dataframe tbody tr th:only-of-type {\n",
       "        vertical-align: middle;\n",
       "    }\n",
       "\n",
       "    .dataframe tbody tr th {\n",
       "        vertical-align: top;\n",
       "    }\n",
       "\n",
       "    .dataframe thead th {\n",
       "        text-align: right;\n",
       "    }\n",
       "</style>\n",
       "<table border=\"1\" class=\"dataframe\">\n",
       "  <thead>\n",
       "    <tr style=\"text-align: right;\">\n",
       "      <th></th>\n",
       "      <th>one</th>\n",
       "      <th>two</th>\n",
       "    </tr>\n",
       "  </thead>\n",
       "  <tbody>\n",
       "    <tr>\n",
       "      <th>0</th>\n",
       "      <td>1.0</td>\n",
       "      <td>4.0</td>\n",
       "    </tr>\n",
       "    <tr>\n",
       "      <th>1</th>\n",
       "      <td>2.0</td>\n",
       "      <td>3.0</td>\n",
       "    </tr>\n",
       "    <tr>\n",
       "      <th>2</th>\n",
       "      <td>3.0</td>\n",
       "      <td>2.0</td>\n",
       "    </tr>\n",
       "    <tr>\n",
       "      <th>3</th>\n",
       "      <td>4.0</td>\n",
       "      <td>1.0</td>\n",
       "    </tr>\n",
       "  </tbody>\n",
       "</table>\n",
       "</div>"
      ],
      "text/plain": [
       "   one  two\n",
       "0  1.0  4.0\n",
       "1  2.0  3.0\n",
       "2  3.0  2.0\n",
       "3  4.0  1.0"
      ]
     },
     "execution_count": 63,
     "metadata": {},
     "output_type": "execute_result"
    }
   ],
   "source": [
    "d = {\n",
    "'one' : [1., 2., 3., 4.],\n",
    "'two' : [4., 3., 2., 1.]\n",
    "}\n",
    "pd.DataFrame(d)"
   ]
  },
  {
   "cell_type": "markdown",
   "id": "7c7beb91-0f8f-4a63-9348-92909172c197",
   "metadata": {},
   "source": [
    "## Creating a DataFrame with Custom Row Index\n",
    "\n",
    "We are using a dictionary of lists `d` and creating a DataFrame with a **custom row index**:\n",
    "**d = {\n",
    "    'one': [1., 2., 3., 4.],\n",
    "    'two': [4., 3., 2., 1.]\n",
    "}\n",
    "pd.DataFrame(d, index=['a', 'b', 'c', 'd'])**\n",
    "\n",
    "- The keys `'one' and 'two'` become the column labels.\n",
    "- The lists become column data.\n",
    "- The index=['a', 'b', 'c', 'd'] defines custom row labels instead of default `0, 1, 2, 3`.\n",
    "\n",
    "### Note:\n",
    "- Useful for giving meaningful row labels (like names, dates, etc.).\n",
    "- The number of index labels must match the number of rows (4 in this case)."
   ]
  },
  {
   "cell_type": "code",
   "execution_count": 64,
   "id": "d701880c-bc57-4e7e-8fb4-1f99651780ba",
   "metadata": {},
   "outputs": [
    {
     "data": {
      "text/html": [
       "<div>\n",
       "<style scoped>\n",
       "    .dataframe tbody tr th:only-of-type {\n",
       "        vertical-align: middle;\n",
       "    }\n",
       "\n",
       "    .dataframe tbody tr th {\n",
       "        vertical-align: top;\n",
       "    }\n",
       "\n",
       "    .dataframe thead th {\n",
       "        text-align: right;\n",
       "    }\n",
       "</style>\n",
       "<table border=\"1\" class=\"dataframe\">\n",
       "  <thead>\n",
       "    <tr style=\"text-align: right;\">\n",
       "      <th></th>\n",
       "      <th>one</th>\n",
       "      <th>two</th>\n",
       "    </tr>\n",
       "  </thead>\n",
       "  <tbody>\n",
       "    <tr>\n",
       "      <th>a</th>\n",
       "      <td>1.0</td>\n",
       "      <td>4.0</td>\n",
       "    </tr>\n",
       "    <tr>\n",
       "      <th>b</th>\n",
       "      <td>2.0</td>\n",
       "      <td>3.0</td>\n",
       "    </tr>\n",
       "    <tr>\n",
       "      <th>c</th>\n",
       "      <td>3.0</td>\n",
       "      <td>2.0</td>\n",
       "    </tr>\n",
       "    <tr>\n",
       "      <th>d</th>\n",
       "      <td>4.0</td>\n",
       "      <td>1.0</td>\n",
       "    </tr>\n",
       "  </tbody>\n",
       "</table>\n",
       "</div>"
      ],
      "text/plain": [
       "   one  two\n",
       "a  1.0  4.0\n",
       "b  2.0  3.0\n",
       "c  3.0  2.0\n",
       "d  4.0  1.0"
      ]
     },
     "execution_count": 64,
     "metadata": {},
     "output_type": "execute_result"
    }
   ],
   "source": [
    "pd.DataFrame(d, index=['a', 'b', 'c', 'd'])"
   ]
  },
  {
   "cell_type": "markdown",
   "id": "b0a1831b-80dc-4dfa-bd6b-aadab27c4891",
   "metadata": {},
   "source": [
    "## Creating a DataFrame from a List of Dictionaries\n",
    "\n",
    "We are passing a list of dictionaries to `pd.DataFrame()`:\n",
    "\n",
    "- Each dictionary represents a row in the DataFrame.\n",
    "- Keys in the dictionaries become column names.\n",
    "- If a key is missing in a particular dictionary, Pandas fills that cell with NaN (Not a Number).\n",
    "  \n",
    "### Use:\n",
    "- Great for creating tables from JSON-like data or API responses.\n",
    "- Handles missing data flexibly.\n",
    "- Automatically aligns dictionary keys with columns.\n",
    "\n",
    "### Note:\n",
    "- Missing values (c is missing in the first dict) are automatically replaced with NaN.\n",
    "- You can specify column order with the columns parameter if needed."
   ]
  },
  {
   "cell_type": "code",
   "execution_count": 65,
   "id": "83dfede6-09ae-4f0c-96bf-75b62c188457",
   "metadata": {},
   "outputs": [
    {
     "data": {
      "text/html": [
       "<div>\n",
       "<style scoped>\n",
       "    .dataframe tbody tr th:only-of-type {\n",
       "        vertical-align: middle;\n",
       "    }\n",
       "\n",
       "    .dataframe tbody tr th {\n",
       "        vertical-align: top;\n",
       "    }\n",
       "\n",
       "    .dataframe thead th {\n",
       "        text-align: right;\n",
       "    }\n",
       "</style>\n",
       "<table border=\"1\" class=\"dataframe\">\n",
       "  <thead>\n",
       "    <tr style=\"text-align: right;\">\n",
       "      <th></th>\n",
       "      <th>a</th>\n",
       "      <th>b</th>\n",
       "      <th>c</th>\n",
       "    </tr>\n",
       "  </thead>\n",
       "  <tbody>\n",
       "    <tr>\n",
       "      <th>0</th>\n",
       "      <td>1</td>\n",
       "      <td>2</td>\n",
       "      <td>NaN</td>\n",
       "    </tr>\n",
       "    <tr>\n",
       "      <th>1</th>\n",
       "      <td>5</td>\n",
       "      <td>10</td>\n",
       "      <td>20.0</td>\n",
       "    </tr>\n",
       "  </tbody>\n",
       "</table>\n",
       "</div>"
      ],
      "text/plain": [
       "   a   b     c\n",
       "0  1   2   NaN\n",
       "1  5  10  20.0"
      ]
     },
     "execution_count": 65,
     "metadata": {},
     "output_type": "execute_result"
    }
   ],
   "source": [
    "data2 = [{'a': 1, 'b': 2}, {'a': 5, 'b': 10, 'c': 20}]\n",
    "pd.DataFrame(data2)"
   ]
  },
  {
   "cell_type": "markdown",
   "id": "2dc6b2be-2df3-444a-8a47-02968ae68e5d",
   "metadata": {},
   "source": [
    "## DataFrame from a List of Dictionaries with Custom Row Labels\n",
    "\n",
    "`Row label a\tb\tc`\n",
    " `first\t1.0\t2.0\tNaN`\n",
    " `second\t5.0\t10.0  20.0`\n",
    "\n",
    "- Keys in each dictionary become column names ('a', 'b', 'c').\n",
    "- The list position determines the row, but we override it with the custom labels first and second.\n",
    "- Any missing key (e.g., 'c' in the first dictionary) is filled with NaN."
   ]
  },
  {
   "cell_type": "code",
   "execution_count": 66,
   "id": "f74bcadb-71c4-409a-8108-48e95936fc1d",
   "metadata": {},
   "outputs": [
    {
     "data": {
      "text/html": [
       "<div>\n",
       "<style scoped>\n",
       "    .dataframe tbody tr th:only-of-type {\n",
       "        vertical-align: middle;\n",
       "    }\n",
       "\n",
       "    .dataframe tbody tr th {\n",
       "        vertical-align: top;\n",
       "    }\n",
       "\n",
       "    .dataframe thead th {\n",
       "        text-align: right;\n",
       "    }\n",
       "</style>\n",
       "<table border=\"1\" class=\"dataframe\">\n",
       "  <thead>\n",
       "    <tr style=\"text-align: right;\">\n",
       "      <th></th>\n",
       "      <th>a</th>\n",
       "      <th>b</th>\n",
       "      <th>c</th>\n",
       "    </tr>\n",
       "  </thead>\n",
       "  <tbody>\n",
       "    <tr>\n",
       "      <th>first</th>\n",
       "      <td>1</td>\n",
       "      <td>2</td>\n",
       "      <td>NaN</td>\n",
       "    </tr>\n",
       "    <tr>\n",
       "      <th>second</th>\n",
       "      <td>5</td>\n",
       "      <td>10</td>\n",
       "      <td>20.0</td>\n",
       "    </tr>\n",
       "  </tbody>\n",
       "</table>\n",
       "</div>"
      ],
      "text/plain": [
       "        a   b     c\n",
       "first   1   2   NaN\n",
       "second  5  10  20.0"
      ]
     },
     "execution_count": 66,
     "metadata": {},
     "output_type": "execute_result"
    }
   ],
   "source": [
    "pd.DataFrame(data2, index=['first', 'second'])"
   ]
  },
  {
   "cell_type": "markdown",
   "id": "b2ce3243-c976-44a7-a3eb-59fd13b301ef",
   "metadata": {},
   "source": [
    "## Creating a DataFrame from List of Dictionaries with Selected Columns\n",
    "\n",
    "- We are telling Pandas to only include columns **'a' and 'b'**.\n",
    "- Although the second dictionary also contains **'c'**, it is excluded from the DataFrame because it is not listed in columns.\n",
    "\n",
    "### Note:\n",
    "- Columns not listed ('c' in this case) are ignored, `even if present in data`.\n",
    "- If you list a column that doesn’t exist in any dictionary, `Pandas will fill it with NaN`."
   ]
  },
  {
   "cell_type": "code",
   "execution_count": 5,
   "id": "fee565e2-9b35-44e0-8f82-d9c1530f48d7",
   "metadata": {},
   "outputs": [
    {
     "data": {
      "text/html": [
       "<div>\n",
       "<style scoped>\n",
       "    .dataframe tbody tr th:only-of-type {\n",
       "        vertical-align: middle;\n",
       "    }\n",
       "\n",
       "    .dataframe tbody tr th {\n",
       "        vertical-align: top;\n",
       "    }\n",
       "\n",
       "    .dataframe thead th {\n",
       "        text-align: right;\n",
       "    }\n",
       "</style>\n",
       "<table border=\"1\" class=\"dataframe\">\n",
       "  <thead>\n",
       "    <tr style=\"text-align: right;\">\n",
       "      <th></th>\n",
       "      <th>a</th>\n",
       "      <th>b</th>\n",
       "    </tr>\n",
       "  </thead>\n",
       "  <tbody>\n",
       "    <tr>\n",
       "      <th>0</th>\n",
       "      <td>1</td>\n",
       "      <td>2</td>\n",
       "    </tr>\n",
       "    <tr>\n",
       "      <th>1</th>\n",
       "      <td>5</td>\n",
       "      <td>10</td>\n",
       "    </tr>\n",
       "  </tbody>\n",
       "</table>\n",
       "</div>"
      ],
      "text/plain": [
       "   a   b\n",
       "0  1   2\n",
       "1  5  10"
      ]
     },
     "execution_count": 5,
     "metadata": {},
     "output_type": "execute_result"
    }
   ],
   "source": [
    "pd.DataFrame(data2, columns=['a', 'b'])"
   ]
  },
  {
   "cell_type": "markdown",
   "id": "12da39d2-93ad-44c1-a9f7-fbe5d54ed174",
   "metadata": {},
   "source": [
    "## Creating a MultiIndex DataFrame (Rows & Columns with Tuples)\n",
    "\n",
    "- The outer dictionary defines the data.\n",
    "- The keys `(like ('a', 'b'), ('a', 'a'), etc.)` become the column MultiIndex  → Pandas turns them into a two‑level column index.\n",
    "- The nested keys `(like ('A', 'B'), ('A', 'C'), etc.)` become the row MultiIndex...\n",
    "- MultiIndex Columns: You're using tuples like ('a', 'b'), so columns are grouped and nested.\n",
    "- MultiIndex Rows: Same idea applies — rows like ('A', 'B') form hierarchical indexing.\n",
    "- Missing values (if any key isn't present) are filled with NaN automatically.\n",
    "\n",
    "### Note:\n",
    "- Great for complex pivot tables, hierarchical data, or multi-dimensional categorization.\n",
    "- Useful in finance, reporting, or any nested grouping."
   ]
  },
  {
   "cell_type": "code",
   "execution_count": 6,
   "id": "cc22d6a0-4f5c-4e00-817f-28c4f4c32113",
   "metadata": {},
   "outputs": [
    {
     "data": {
      "text/html": [
       "<div>\n",
       "<style scoped>\n",
       "    .dataframe tbody tr th:only-of-type {\n",
       "        vertical-align: middle;\n",
       "    }\n",
       "\n",
       "    .dataframe tbody tr th {\n",
       "        vertical-align: top;\n",
       "    }\n",
       "\n",
       "    .dataframe thead tr th {\n",
       "        text-align: left;\n",
       "    }\n",
       "</style>\n",
       "<table border=\"1\" class=\"dataframe\">\n",
       "  <thead>\n",
       "    <tr>\n",
       "      <th></th>\n",
       "      <th></th>\n",
       "      <th colspan=\"3\" halign=\"left\">a</th>\n",
       "      <th colspan=\"2\" halign=\"left\">b</th>\n",
       "    </tr>\n",
       "    <tr>\n",
       "      <th></th>\n",
       "      <th></th>\n",
       "      <th>b</th>\n",
       "      <th>a</th>\n",
       "      <th>c</th>\n",
       "      <th>a</th>\n",
       "      <th>b</th>\n",
       "    </tr>\n",
       "  </thead>\n",
       "  <tbody>\n",
       "    <tr>\n",
       "      <th rowspan=\"3\" valign=\"top\">A</th>\n",
       "      <th>B</th>\n",
       "      <td>1.0</td>\n",
       "      <td>4.0</td>\n",
       "      <td>5.0</td>\n",
       "      <td>8.0</td>\n",
       "      <td>10.0</td>\n",
       "    </tr>\n",
       "    <tr>\n",
       "      <th>C</th>\n",
       "      <td>2.0</td>\n",
       "      <td>3.0</td>\n",
       "      <td>6.0</td>\n",
       "      <td>7.0</td>\n",
       "      <td>NaN</td>\n",
       "    </tr>\n",
       "    <tr>\n",
       "      <th>D</th>\n",
       "      <td>NaN</td>\n",
       "      <td>NaN</td>\n",
       "      <td>NaN</td>\n",
       "      <td>NaN</td>\n",
       "      <td>9.0</td>\n",
       "    </tr>\n",
       "  </tbody>\n",
       "</table>\n",
       "</div>"
      ],
      "text/plain": [
       "       a              b      \n",
       "       b    a    c    a     b\n",
       "A B  1.0  4.0  5.0  8.0  10.0\n",
       "  C  2.0  3.0  6.0  7.0   NaN\n",
       "  D  NaN  NaN  NaN  NaN   9.0"
      ]
     },
     "execution_count": 6,
     "metadata": {},
     "output_type": "execute_result"
    }
   ],
   "source": [
    "pd.DataFrame({('a', 'b'): {('A', 'B'): 1, ('A', 'C'): 2},\n",
    "('a', 'a'): {('A', 'C'): 3, ('A', 'B'): 4},\n",
    "('a', 'c'): {('A', 'B'): 5, ('A', 'C'): 6},\n",
    "('b', 'a'): {('A', 'C'): 7, ('A', 'B'): 8},\n",
    "('b', 'b'): {('A', 'D'): 9, ('A', 'B'): 10}})"
   ]
  },
  {
   "cell_type": "markdown",
   "id": "4ffa318b-c317-4d14-96ed-b564888264d3",
   "metadata": {},
   "source": [
    "## Creating a Structured NumPy Array with Named Columns (Fields)\n",
    "\n",
    "- We are creating a structured NumPy array using `np.zeros`.\n",
    "- It has 2 rows, and each row is a record with named fields:\n",
    "   - 'A': integer of 4 bytes `('i4')`\n",
    "   - 'B': float of 4 bytes `('f4')`\n",
    "   - 'C': string of 10 characters `('a10')`\n",
    "- Default values are all zeros (0 for numbers, empty b'' for bytes/strings).\n",
    "- You can now access data using the field names, like **data['A'], data['B']**, etc.\n",
    "\n",
    "### Note:\n",
    "- Useful for tabular-like data in NumPy where each column has a different datatype.\n",
    "- Acts like a lightweight DataFrame with fixed-size fields and no overhead."
   ]
  },
  {
   "cell_type": "code",
   "execution_count": 10,
   "id": "51a5fc7d-ab6b-40c4-8307-ca2cbfc6ca6e",
   "metadata": {},
   "outputs": [
    {
     "data": {
      "text/plain": [
       "array([(0, 0., b''), (0, 0., b'')],\n",
       "      dtype=[('A', '<i4'), ('B', '<f4'), ('C', 'S10')])"
      ]
     },
     "execution_count": 10,
     "metadata": {},
     "output_type": "execute_result"
    }
   ],
   "source": [
    "data = np.zeros((2,), dtype=[('A', 'i4'), ('B', 'f4'), ('C', 'S10')])\n",
    "data"
   ]
  },
  {
   "cell_type": "markdown",
   "id": "1089a1cb-90e7-4057-b9d7-3cd9b465515d",
   "metadata": {},
   "source": [
    "## Creating a DataFrame from a Structured NumPy Array Using `.from_records()`\n",
    "\n",
    "- np.zeros(...) creates a structured array with named fields: `A, B, and C.`\n",
    "- pd.DataFrame.from_records(data) converts this NumPy array into a DataFrame.\n",
    "- index='C' sets column C as the row index of the DataFrame.\n",
    "\n",
    "### Notes:\n",
    "- The 'C' field contains byte strings `('S10')` by default — that’s why the index appears as b''."
   ]
  },
  {
   "cell_type": "code",
   "execution_count": 11,
   "id": "8eb293e9-fc50-4818-9555-c4d06a7593f7",
   "metadata": {},
   "outputs": [
    {
     "data": {
      "text/html": [
       "<div>\n",
       "<style scoped>\n",
       "    .dataframe tbody tr th:only-of-type {\n",
       "        vertical-align: middle;\n",
       "    }\n",
       "\n",
       "    .dataframe tbody tr th {\n",
       "        vertical-align: top;\n",
       "    }\n",
       "\n",
       "    .dataframe thead th {\n",
       "        text-align: right;\n",
       "    }\n",
       "</style>\n",
       "<table border=\"1\" class=\"dataframe\">\n",
       "  <thead>\n",
       "    <tr style=\"text-align: right;\">\n",
       "      <th></th>\n",
       "      <th>A</th>\n",
       "      <th>B</th>\n",
       "    </tr>\n",
       "    <tr>\n",
       "      <th>C</th>\n",
       "      <th></th>\n",
       "      <th></th>\n",
       "    </tr>\n",
       "  </thead>\n",
       "  <tbody>\n",
       "    <tr>\n",
       "      <th>b''</th>\n",
       "      <td>0</td>\n",
       "      <td>0.0</td>\n",
       "    </tr>\n",
       "    <tr>\n",
       "      <th>b''</th>\n",
       "      <td>0</td>\n",
       "      <td>0.0</td>\n",
       "    </tr>\n",
       "  </tbody>\n",
       "</table>\n",
       "</div>"
      ],
      "text/plain": [
       "     A    B\n",
       "C          \n",
       "b''  0  0.0\n",
       "b''  0  0.0"
      ]
     },
     "execution_count": 11,
     "metadata": {},
     "output_type": "execute_result"
    }
   ],
   "source": [
    "pd.DataFrame.from_records(data, index='C')"
   ]
  },
  {
   "cell_type": "markdown",
   "id": "c66ecbed-99f9-4910-ad96-1433cd3ebfe8",
   "metadata": {},
   "source": [
    "## Deprecation Alert: `pd.DataFrame.from_items()` is Removed in Latest Pandas\n",
    "\n",
    "### Error:\n",
    "- AttributeError: type object **'DataFrame'** has no attribute `'from_items`\n",
    "- from_items() was deprecated in Pandas `1.1.0` and removed in newer versions.\n",
    "- It was previously used to create a DataFrame from an ordered list of key-value pairs (like OrderedDict).\n",
    "\n",
    "### Recommended Alternative:\n",
    "- Use a dictionary directly to achieve the same result:\n",
    "  \n",
    "import pandas as pd\n",
    "df = pd.DataFrame({'A': [1, 2, 3],'B': [4, 5, 6]})"
   ]
  },
  {
   "cell_type": "code",
   "execution_count": 16,
   "id": "8017609c-d76c-42bd-b3f3-47e349f463f2",
   "metadata": {},
   "outputs": [
    {
     "ename": "AttributeError",
     "evalue": "type object 'DataFrame' has no attribute 'from_items'",
     "output_type": "error",
     "traceback": [
      "\u001b[1;31m---------------------------------------------------------------------------\u001b[0m",
      "\u001b[1;31mAttributeError\u001b[0m                            Traceback (most recent call last)",
      "Cell \u001b[1;32mIn[16], line 1\u001b[0m\n\u001b[1;32m----> 1\u001b[0m pd\u001b[38;5;241m.\u001b[39mDataFrame\u001b[38;5;241m.\u001b[39mfrom_items([(\u001b[38;5;124m'\u001b[39m\u001b[38;5;124mA\u001b[39m\u001b[38;5;124m'\u001b[39m, [\u001b[38;5;241m1\u001b[39m, \u001b[38;5;241m2\u001b[39m, \u001b[38;5;241m3\u001b[39m]), (\u001b[38;5;124m'\u001b[39m\u001b[38;5;124mB\u001b[39m\u001b[38;5;124m'\u001b[39m, [\u001b[38;5;241m4\u001b[39m, \u001b[38;5;241m5\u001b[39m, \u001b[38;5;241m6\u001b[39m])])\n",
      "\u001b[1;31mAttributeError\u001b[0m: type object 'DataFrame' has no attribute 'from_items'"
     ]
    }
   ],
   "source": [
    "pd.DataFrame.from_items([('A', [1, 2, 3]), ('B', [4, 5, 6])])"
   ]
  },
  {
   "cell_type": "code",
   "execution_count": 19,
   "id": "8b3b61dc-c304-426e-a45c-5fed8c77d36d",
   "metadata": {},
   "outputs": [
    {
     "data": {
      "text/html": [
       "<div>\n",
       "<style scoped>\n",
       "    .dataframe tbody tr th:only-of-type {\n",
       "        vertical-align: middle;\n",
       "    }\n",
       "\n",
       "    .dataframe tbody tr th {\n",
       "        vertical-align: top;\n",
       "    }\n",
       "\n",
       "    .dataframe thead th {\n",
       "        text-align: right;\n",
       "    }\n",
       "</style>\n",
       "<table border=\"1\" class=\"dataframe\">\n",
       "  <thead>\n",
       "    <tr style=\"text-align: right;\">\n",
       "      <th></th>\n",
       "      <th>A</th>\n",
       "      <th>B</th>\n",
       "    </tr>\n",
       "  </thead>\n",
       "  <tbody>\n",
       "    <tr>\n",
       "      <th>0</th>\n",
       "      <td>1</td>\n",
       "      <td>4</td>\n",
       "    </tr>\n",
       "    <tr>\n",
       "      <th>1</th>\n",
       "      <td>2</td>\n",
       "      <td>5</td>\n",
       "    </tr>\n",
       "    <tr>\n",
       "      <th>2</th>\n",
       "      <td>3</td>\n",
       "      <td>6</td>\n",
       "    </tr>\n",
       "  </tbody>\n",
       "</table>\n",
       "</div>"
      ],
      "text/plain": [
       "   A  B\n",
       "0  1  4\n",
       "1  2  5\n",
       "2  3  6"
      ]
     },
     "execution_count": 19,
     "metadata": {},
     "output_type": "execute_result"
    }
   ],
   "source": [
    "import pandas as pd\n",
    "df = pd.DataFrame({\n",
    "    'A': [1, 2, 3],\n",
    "    'B': [4, 5, 6]\n",
    "})\n",
    "df"
   ]
  },
  {
   "cell_type": "markdown",
   "id": "0e6abdb2-1e81-4c2c-9837-e752a672a588",
   "metadata": {},
   "source": [
    "### Error: `DataFrame.from_items()` is Removed in Newer Versions of Pandas\n",
    "\n",
    "- AttributeError: type object `'DataFrame'` has no attribute `'from_items'`\n",
    "- from_items() was deprecated in Pandas `v0.21.0` and removed in `v1.1.0`.\n",
    "- It was used to create a DataFrame from key-value pairs (typically in ordered form).\n",
    "\n",
    "### Correct Modern Approach:\n",
    "- You can use a simple dictionary with `orient='index' and columns=...` like this:\n",
    "\n",
    "import pandas as pd\n",
    "data = {'A': [1, 2, 3],'B': [4, 5, 6]}\n",
    "df = pd.DataFrame.from_dict(data, orient='index', columns=['one', 'two', 'three'])\n",
    "df"
   ]
  },
  {
   "cell_type": "code",
   "execution_count": 20,
   "id": "2172ed7d-7cc8-4e50-b9cf-64c78e849f46",
   "metadata": {},
   "outputs": [
    {
     "ename": "AttributeError",
     "evalue": "type object 'DataFrame' has no attribute 'from_items'",
     "output_type": "error",
     "traceback": [
      "\u001b[1;31m---------------------------------------------------------------------------\u001b[0m",
      "\u001b[1;31mAttributeError\u001b[0m                            Traceback (most recent call last)",
      "Cell \u001b[1;32mIn[20], line 1\u001b[0m\n\u001b[1;32m----> 1\u001b[0m pd\u001b[38;5;241m.\u001b[39mDataFrame\u001b[38;5;241m.\u001b[39mfrom_items([(\u001b[38;5;124m'\u001b[39m\u001b[38;5;124mA\u001b[39m\u001b[38;5;124m'\u001b[39m, [\u001b[38;5;241m1\u001b[39m, \u001b[38;5;241m2\u001b[39m, \u001b[38;5;241m3\u001b[39m]), (\u001b[38;5;124m'\u001b[39m\u001b[38;5;124mB\u001b[39m\u001b[38;5;124m'\u001b[39m, [\u001b[38;5;241m4\u001b[39m, \u001b[38;5;241m5\u001b[39m, \u001b[38;5;241m6\u001b[39m])],\n\u001b[0;32m      2\u001b[0m orient\u001b[38;5;241m=\u001b[39m\u001b[38;5;124m'\u001b[39m\u001b[38;5;124mindex\u001b[39m\u001b[38;5;124m'\u001b[39m, columns\u001b[38;5;241m=\u001b[39m[\u001b[38;5;124m'\u001b[39m\u001b[38;5;124mone\u001b[39m\u001b[38;5;124m'\u001b[39m, \u001b[38;5;124m'\u001b[39m\u001b[38;5;124mtwo\u001b[39m\u001b[38;5;124m'\u001b[39m, \u001b[38;5;124m'\u001b[39m\u001b[38;5;124mthree\u001b[39m\u001b[38;5;124m'\u001b[39m])\n",
      "\u001b[1;31mAttributeError\u001b[0m: type object 'DataFrame' has no attribute 'from_items'"
     ]
    }
   ],
   "source": [
    "pd.DataFrame.from_items([('A', [1, 2, 3]), ('B', [4, 5, 6])],\n",
    "orient='index', columns=['one', 'two', 'three'])"
   ]
  },
  {
   "cell_type": "code",
   "execution_count": 21,
   "id": "c67c124c-e538-4de4-bd64-00eef361081c",
   "metadata": {},
   "outputs": [
    {
     "data": {
      "text/html": [
       "<div>\n",
       "<style scoped>\n",
       "    .dataframe tbody tr th:only-of-type {\n",
       "        vertical-align: middle;\n",
       "    }\n",
       "\n",
       "    .dataframe tbody tr th {\n",
       "        vertical-align: top;\n",
       "    }\n",
       "\n",
       "    .dataframe thead th {\n",
       "        text-align: right;\n",
       "    }\n",
       "</style>\n",
       "<table border=\"1\" class=\"dataframe\">\n",
       "  <thead>\n",
       "    <tr style=\"text-align: right;\">\n",
       "      <th></th>\n",
       "      <th>one</th>\n",
       "      <th>two</th>\n",
       "      <th>three</th>\n",
       "    </tr>\n",
       "  </thead>\n",
       "  <tbody>\n",
       "    <tr>\n",
       "      <th>A</th>\n",
       "      <td>1</td>\n",
       "      <td>2</td>\n",
       "      <td>3</td>\n",
       "    </tr>\n",
       "    <tr>\n",
       "      <th>B</th>\n",
       "      <td>4</td>\n",
       "      <td>5</td>\n",
       "      <td>6</td>\n",
       "    </tr>\n",
       "  </tbody>\n",
       "</table>\n",
       "</div>"
      ],
      "text/plain": [
       "   one  two  three\n",
       "A    1    2      3\n",
       "B    4    5      6"
      ]
     },
     "execution_count": 21,
     "metadata": {},
     "output_type": "execute_result"
    }
   ],
   "source": [
    "import pandas as pd\n",
    "data = {'A': [1, 2, 3],'B': [4, 5, 6]}\n",
    "df = pd.DataFrame.from_dict(data, orient='index', columns=['one', 'two', 'three'])\n",
    "df"
   ]
  },
  {
   "cell_type": "markdown",
   "id": "2dfa0068-62f7-4c2a-8bc2-28de2a386e44",
   "metadata": {},
   "source": [
    "## Accessing a Column in a Pandas DataFrame\n",
    "\n",
    "- df['one'] is used to access a specific column named `'one'` in the DataFrame df.\n",
    "- It returns a Pandas Series containing all the values in that column.\n",
    "\n",
    "### Note:\n",
    "- The column is returned as a Series.\n",
    "- You can perform operations on it like `.mean(), .sum(), indexing, etc`."
   ]
  },
  {
   "cell_type": "code",
   "execution_count": 22,
   "id": "e14f1f97-9f2a-47b4-a7f4-d590953dd9ba",
   "metadata": {},
   "outputs": [
    {
     "data": {
      "text/plain": [
       "A    1\n",
       "B    4\n",
       "Name: one, dtype: int64"
      ]
     },
     "execution_count": 22,
     "metadata": {},
     "output_type": "execute_result"
    }
   ],
   "source": [
    "df['one']"
   ]
  },
  {
   "cell_type": "markdown",
   "id": "07a5b9ec-9237-4a19-a9fb-087b04bef923",
   "metadata": {},
   "source": [
    "## Creating a New Column in a DataFrame by Multiplying Two Existing Columns\n",
    "\n",
    "- This line multiplies the values in `column 'one' with the values in column 'two'`.\n",
    "- The result is stored in a new or existing column named `'three'`.\n",
    "- This is a vectorized operation in Pandas (fast and efficient).\n",
    "- It's commonly used in data analysis to create derived columns."
   ]
  },
  {
   "cell_type": "code",
   "execution_count": 24,
   "id": "c90a6859-e2c0-4697-87ee-da1397954089",
   "metadata": {},
   "outputs": [
    {
     "data": {
      "text/html": [
       "<div>\n",
       "<style scoped>\n",
       "    .dataframe tbody tr th:only-of-type {\n",
       "        vertical-align: middle;\n",
       "    }\n",
       "\n",
       "    .dataframe tbody tr th {\n",
       "        vertical-align: top;\n",
       "    }\n",
       "\n",
       "    .dataframe thead th {\n",
       "        text-align: right;\n",
       "    }\n",
       "</style>\n",
       "<table border=\"1\" class=\"dataframe\">\n",
       "  <thead>\n",
       "    <tr style=\"text-align: right;\">\n",
       "      <th></th>\n",
       "      <th>one</th>\n",
       "      <th>two</th>\n",
       "      <th>three</th>\n",
       "    </tr>\n",
       "  </thead>\n",
       "  <tbody>\n",
       "    <tr>\n",
       "      <th>A</th>\n",
       "      <td>1</td>\n",
       "      <td>2</td>\n",
       "      <td>2</td>\n",
       "    </tr>\n",
       "    <tr>\n",
       "      <th>B</th>\n",
       "      <td>4</td>\n",
       "      <td>5</td>\n",
       "      <td>20</td>\n",
       "    </tr>\n",
       "  </tbody>\n",
       "</table>\n",
       "</div>"
      ],
      "text/plain": [
       "   one  two  three\n",
       "A    1    2      2\n",
       "B    4    5     20"
      ]
     },
     "execution_count": 24,
     "metadata": {},
     "output_type": "execute_result"
    }
   ],
   "source": [
    " df['three'] = df['one'] * df['two']\n",
    "df"
   ]
  },
  {
   "cell_type": "markdown",
   "id": "5c2f4e1b-5a29-482b-bde6-b1f628c6ad53",
   "metadata": {},
   "source": [
    "## Creating a Boolean Column Based on a Condition\n",
    "\n",
    "- This line checks whether each value in `column 'one' is greater than 2`.\n",
    "- The result is a Boolean Series **(True or False)** for each row.\n",
    "- A new column 'flag' is added to the DataFrame with these `Boolean values`.\n",
    "\n",
    "### Note:\n",
    "- This technique is useful for:\n",
    "- Filtering rows (df[df['flag']])\n",
    "- Conditional analysis\n",
    "- Feature engineering in machine learning"
   ]
  },
  {
   "cell_type": "code",
   "execution_count": 27,
   "id": "f868ea3c-e836-4b91-958f-8c953660458e",
   "metadata": {},
   "outputs": [
    {
     "data": {
      "text/html": [
       "<div>\n",
       "<style scoped>\n",
       "    .dataframe tbody tr th:only-of-type {\n",
       "        vertical-align: middle;\n",
       "    }\n",
       "\n",
       "    .dataframe tbody tr th {\n",
       "        vertical-align: top;\n",
       "    }\n",
       "\n",
       "    .dataframe thead th {\n",
       "        text-align: right;\n",
       "    }\n",
       "</style>\n",
       "<table border=\"1\" class=\"dataframe\">\n",
       "  <thead>\n",
       "    <tr style=\"text-align: right;\">\n",
       "      <th></th>\n",
       "      <th>one</th>\n",
       "      <th>two</th>\n",
       "      <th>three</th>\n",
       "      <th>flag</th>\n",
       "    </tr>\n",
       "  </thead>\n",
       "  <tbody>\n",
       "    <tr>\n",
       "      <th>A</th>\n",
       "      <td>1</td>\n",
       "      <td>2</td>\n",
       "      <td>2</td>\n",
       "      <td>False</td>\n",
       "    </tr>\n",
       "    <tr>\n",
       "      <th>B</th>\n",
       "      <td>4</td>\n",
       "      <td>5</td>\n",
       "      <td>20</td>\n",
       "      <td>True</td>\n",
       "    </tr>\n",
       "  </tbody>\n",
       "</table>\n",
       "</div>"
      ],
      "text/plain": [
       "   one  two  three   flag\n",
       "A    1    2      2  False\n",
       "B    4    5     20   True"
      ]
     },
     "execution_count": 27,
     "metadata": {},
     "output_type": "execute_result"
    }
   ],
   "source": [
    " df['flag'] = df['one'] > 2\n",
    "df"
   ]
  },
  {
   "cell_type": "markdown",
   "id": "0f4d1183-1211-43d8-aaa3-cce176738d9b",
   "metadata": {},
   "source": [
    "### print a complete data frame"
   ]
  },
  {
   "cell_type": "code",
   "execution_count": 28,
   "id": "b7c3265f-4dc3-40d2-9fc7-9f3047e28dac",
   "metadata": {},
   "outputs": [
    {
     "data": {
      "text/html": [
       "<div>\n",
       "<style scoped>\n",
       "    .dataframe tbody tr th:only-of-type {\n",
       "        vertical-align: middle;\n",
       "    }\n",
       "\n",
       "    .dataframe tbody tr th {\n",
       "        vertical-align: top;\n",
       "    }\n",
       "\n",
       "    .dataframe thead th {\n",
       "        text-align: right;\n",
       "    }\n",
       "</style>\n",
       "<table border=\"1\" class=\"dataframe\">\n",
       "  <thead>\n",
       "    <tr style=\"text-align: right;\">\n",
       "      <th></th>\n",
       "      <th>one</th>\n",
       "      <th>two</th>\n",
       "      <th>three</th>\n",
       "      <th>flag</th>\n",
       "    </tr>\n",
       "  </thead>\n",
       "  <tbody>\n",
       "    <tr>\n",
       "      <th>A</th>\n",
       "      <td>1</td>\n",
       "      <td>2</td>\n",
       "      <td>2</td>\n",
       "      <td>False</td>\n",
       "    </tr>\n",
       "    <tr>\n",
       "      <th>B</th>\n",
       "      <td>4</td>\n",
       "      <td>5</td>\n",
       "      <td>20</td>\n",
       "      <td>True</td>\n",
       "    </tr>\n",
       "  </tbody>\n",
       "</table>\n",
       "</div>"
      ],
      "text/plain": [
       "   one  two  three   flag\n",
       "A    1    2      2  False\n",
       "B    4    5     20   True"
      ]
     },
     "execution_count": 28,
     "metadata": {},
     "output_type": "execute_result"
    }
   ],
   "source": [
    "df"
   ]
  },
  {
   "cell_type": "markdown",
   "id": "3c41b4dc-6bda-4a23-85c4-ce5d147dd71f",
   "metadata": {},
   "source": [
    "## Adding a New Column to a DataFrame\n",
    "\n",
    "- This line adds a new column called `'foo'` to the existing DataFrame df.\n",
    "- The value 'bar' will be assigned to `every row in this column`."
   ]
  },
  {
   "cell_type": "code",
   "execution_count": 30,
   "id": "2b4fd408-e6a6-417d-b7b2-e895774cd79d",
   "metadata": {},
   "outputs": [
    {
     "data": {
      "text/html": [
       "<div>\n",
       "<style scoped>\n",
       "    .dataframe tbody tr th:only-of-type {\n",
       "        vertical-align: middle;\n",
       "    }\n",
       "\n",
       "    .dataframe tbody tr th {\n",
       "        vertical-align: top;\n",
       "    }\n",
       "\n",
       "    .dataframe thead th {\n",
       "        text-align: right;\n",
       "    }\n",
       "</style>\n",
       "<table border=\"1\" class=\"dataframe\">\n",
       "  <thead>\n",
       "    <tr style=\"text-align: right;\">\n",
       "      <th></th>\n",
       "      <th>one</th>\n",
       "      <th>two</th>\n",
       "      <th>three</th>\n",
       "      <th>flag</th>\n",
       "      <th>foo</th>\n",
       "    </tr>\n",
       "  </thead>\n",
       "  <tbody>\n",
       "    <tr>\n",
       "      <th>A</th>\n",
       "      <td>1</td>\n",
       "      <td>2</td>\n",
       "      <td>2</td>\n",
       "      <td>False</td>\n",
       "      <td>bar</td>\n",
       "    </tr>\n",
       "    <tr>\n",
       "      <th>B</th>\n",
       "      <td>4</td>\n",
       "      <td>5</td>\n",
       "      <td>20</td>\n",
       "      <td>True</td>\n",
       "      <td>bar</td>\n",
       "    </tr>\n",
       "  </tbody>\n",
       "</table>\n",
       "</div>"
      ],
      "text/plain": [
       "   one  two  three   flag  foo\n",
       "A    1    2      2  False  bar\n",
       "B    4    5     20   True  bar"
      ]
     },
     "execution_count": 30,
     "metadata": {},
     "output_type": "execute_result"
    }
   ],
   "source": [
    "df['foo'] = 'bar'\n",
    "df"
   ]
  },
  {
   "cell_type": "markdown",
   "id": "8602c9bc-961a-4328-9eb3-43c62a066c62",
   "metadata": {},
   "source": [
    "### Print complete dataframe"
   ]
  },
  {
   "cell_type": "code",
   "execution_count": 31,
   "id": "382cdcd5-0c76-4273-911e-1d3df0c77f88",
   "metadata": {},
   "outputs": [
    {
     "data": {
      "text/html": [
       "<div>\n",
       "<style scoped>\n",
       "    .dataframe tbody tr th:only-of-type {\n",
       "        vertical-align: middle;\n",
       "    }\n",
       "\n",
       "    .dataframe tbody tr th {\n",
       "        vertical-align: top;\n",
       "    }\n",
       "\n",
       "    .dataframe thead th {\n",
       "        text-align: right;\n",
       "    }\n",
       "</style>\n",
       "<table border=\"1\" class=\"dataframe\">\n",
       "  <thead>\n",
       "    <tr style=\"text-align: right;\">\n",
       "      <th></th>\n",
       "      <th>one</th>\n",
       "      <th>two</th>\n",
       "      <th>three</th>\n",
       "      <th>flag</th>\n",
       "      <th>foo</th>\n",
       "    </tr>\n",
       "  </thead>\n",
       "  <tbody>\n",
       "    <tr>\n",
       "      <th>A</th>\n",
       "      <td>1</td>\n",
       "      <td>2</td>\n",
       "      <td>2</td>\n",
       "      <td>False</td>\n",
       "      <td>bar</td>\n",
       "    </tr>\n",
       "    <tr>\n",
       "      <th>B</th>\n",
       "      <td>4</td>\n",
       "      <td>5</td>\n",
       "      <td>20</td>\n",
       "      <td>True</td>\n",
       "      <td>bar</td>\n",
       "    </tr>\n",
       "  </tbody>\n",
       "</table>\n",
       "</div>"
      ],
      "text/plain": [
       "   one  two  three   flag  foo\n",
       "A    1    2      2  False  bar\n",
       "B    4    5     20   True  bar"
      ]
     },
     "execution_count": 31,
     "metadata": {},
     "output_type": "execute_result"
    }
   ],
   "source": [
    "df"
   ]
  }
 ],
 "metadata": {
  "kernelspec": {
   "display_name": "Python [conda env:base] *",
   "language": "python",
   "name": "conda-base-py"
  },
  "language_info": {
   "codemirror_mode": {
    "name": "ipython",
    "version": 3
   },
   "file_extension": ".py",
   "mimetype": "text/x-python",
   "name": "python",
   "nbconvert_exporter": "python",
   "pygments_lexer": "ipython3",
   "version": "3.13.5"
  }
 },
 "nbformat": 4,
 "nbformat_minor": 5
}
